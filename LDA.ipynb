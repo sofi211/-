{
  "cells": [
    {
      "cell_type": "code",
      "execution_count": 6,
      "metadata": {
        "id": "MmfZdt-_QQL_"
      },
      "outputs": [],
      "source": [
        "!pip install -q pymorphy3"
      ]
    },
    {
      "cell_type": "code",
      "execution_count": 10,
      "metadata": {
        "id": "xNFSU4EAPO69",
        "colab": {
          "base_uri": "https://localhost:8080/"
        },
        "outputId": "a42559c4-e1a5-4151-e467-050306d6afab"
      },
      "outputs": [
        {
          "output_type": "stream",
          "name": "stderr",
          "text": [
            "[nltk_data] Downloading package stopwords to /root/nltk_data...\n",
            "[nltk_data]   Package stopwords is already up-to-date!\n"
          ]
        }
      ],
      "source": [
        "import re\n",
        "import time\n",
        "\n",
        "import nltk\n",
        "import numpy as np\n",
        "import pandas as pd\n",
        "import pymorphy3\n",
        "\n",
        "from sklearn.decomposition import LatentDirichletAllocation as LDA\n",
        "from sklearn.feature_extraction.text import CountVectorizer\n",
        "from sklearn.metrics import accuracy_score, confusion_matrix\n",
        "from nltk.corpus import stopwords\n",
        "\n",
        "import matplotlib.pyplot as plt\n",
        "import seaborn as sns\n",
        "from tqdm import tqdm\n",
        "\n",
        "import warnings\n",
        "warnings.filterwarnings(\"ignore\")\n",
        "\n",
        "# Загрузка русских стоп-слов\n",
        "\n",
        "nltk.download('stopwords')\n",
        "rus_stopwords = set(stopwords.words('russian'))\n",
        "\n",
        "# Добавление кастомных стоп-слов\n",
        "custom_stopwords = {'с', 'а', 'алло', 'без', 'белый', 'близко', 'более', 'больше', 'большой', 'будем', 'будет', 'будете', 'будешь', 'будто', 'буду', 'будут', 'будь', 'бы', 'бывает', 'бывь', 'был', 'была', 'были', 'было', 'быть', 'в', 'важная', 'важное', 'важные', 'важный', 'вам', 'вами', 'вас', 'ваш', 'ваша', 'ваша', 'ваше', 'ваши', 'вверх', 'вдали', 'вдруг', 'ведь', 'везде', 'вернуться', 'весь', 'вечер', 'взгляд', 'взять', 'вид', 'видел', 'видеть', 'вместе', 'вне', 'вниз', 'внизу', 'во', 'вода', 'война', 'вокруг', 'вон', 'вообще', 'вопрос', 'восемнадцатый', 'восемнадцать', 'восемь', 'восьмой', 'вот', 'впрочем', 'времени', 'время', 'все', 'все еще', 'всегда', 'всего', 'всем', 'всеми', 'всему', 'всех', 'всею', 'всю', 'всюду', 'вся', 'всё', 'второй', 'вы', 'выйти', 'г', 'где', 'главный', 'глаз', 'говорил', 'говорит', 'говорить', 'год', 'года', 'году', 'голова', 'голос', 'город', 'да', 'давать', 'давно', 'даже', 'далекий', 'далеко', 'дальше', 'даром', 'дать', 'два', 'двадцатый', 'двадцать', 'две', 'двенадцатый', 'двенадцать', 'дверь', 'двух', 'девятнадцатый', 'девятнадцать', 'девятый', 'девять', 'действительно', 'дел', 'делал', 'делать', 'делаю', 'дело', 'день', 'деньги', 'десятый', 'десять', 'для', 'до', 'довольно', 'долго', 'должен', 'должно', 'должный', 'дом', 'дорога', 'друг', 'другая', 'другие', 'других', 'друго', 'другое', 'другой', 'думать', 'душа', 'е', 'его', 'ее', 'ей', 'ему', 'если', 'есть', 'еще', 'ещё', 'ею', 'её', 'ж', 'ждать', 'же', 'жена', 'женщина', 'жизнь', 'жить', 'за', 'занят', 'занята', 'занято', 'заняты', 'затем', 'зато', 'зачем', 'здесь', 'земля', 'знать', 'значит', 'значить', 'и', 'иди', 'идти', 'из', 'или', 'им', 'имеет', 'имел', 'именно', 'иметь', 'ими', 'имя', 'иногда', 'их', 'к', 'каждая', 'каждое', 'каждые', 'каждый', 'кажется', 'казаться', 'как', 'какая', 'какой', 'кем', 'книга', 'когда', 'кого', 'ком', 'комната', 'кому', 'конец', 'конечно', 'которая', 'которого', 'которой', 'которые', 'который', 'которых', 'кроме', 'кругом', 'кто', 'куда', 'лежать', 'лет', 'ли', 'лицо', 'лишь', 'лучше', 'любить', 'люди', 'м', 'маленький', 'мало', 'мать', 'машина', 'между', 'меля', 'менее', 'меньше', 'меня', 'место', 'миллионов', 'мимо', 'минута', 'мир', 'мира', 'мне', 'много', 'многочисленная', 'многочисленное', 'многочисленные', 'многочисленный', 'мной', 'мною', 'мог', 'могу', 'могут', 'мой', 'мож', 'может', 'может быть', 'можно', 'можхо', 'мои', 'мой', 'мор', 'москва', 'мочь', 'моя', 'моё', 'мы', 'на', 'наверху', 'над', 'надо', 'назад', 'наиболее', 'найти', 'наконец', 'нам', 'нами', 'народ', 'нас', 'начала', 'начать', 'наш', 'наша', 'наше', 'наши', 'не', 'него', 'недавно', 'недалеко', 'нее', 'ней', 'некоторый', 'нельзя', 'нем', 'немного', 'нему', 'непрерывно', 'нередко', 'несколько', 'нет', 'нею', 'неё', 'ни', 'нибудь', 'ниже', 'низко', 'никакой', 'никогда', 'никто', 'никуда', 'ним', 'ними', 'них', 'ничего', 'ничто', 'но', 'новый', 'нога', 'ночь', 'ну', 'нужно', 'нужный', 'нх', 'о', 'об', 'оба', 'обычно', 'один', 'одиннадцатый', 'одиннадцать', 'однажды', 'однако', 'одного', 'одной', 'оказаться', 'окно', 'около', 'он', 'она', 'они', 'оно', 'опять', 'особенно', 'остаться', 'от', 'ответить', 'отец', 'откуда', 'отовсюду', 'отсюда', 'очень', 'первый', 'перед', 'писать', 'плечо', 'по', 'под', 'подойди', 'подумать', 'пожалуйста', 'позже', 'пойти', 'пока', 'пол', 'получить', 'помнить', 'понимать', 'понять', 'пор', 'пора', 'после', 'последний', 'посмотреть', 'посреди', 'потом', 'потому', 'почему', 'почти', 'правда', 'прекрасно', 'при', 'про', 'просто', 'против', 'процентов', 'путь', 'пятнадцатый', 'пятнадцать', 'пятый', 'пять', 'работа', 'работать', 'раз', 'разве', 'рано', 'раньше', 'ребенок', 'решить', 'россия', 'рука', 'русский', 'ряд', 'рядом', 'с', 'с кем', 'сам', 'сама', 'сами', 'самим', 'самими', 'самих', 'само', 'самого', 'самой', 'самом', 'самому', 'саму', 'самый', 'свет', 'свое', 'своего', 'своей', 'свои', 'своих', 'свой', 'свою', 'сделать', 'сеаой', 'себе', 'себя', 'сегодня', 'седьмой', 'сейчас', 'семнадцатый', 'семнадцать', 'семь', 'сидеть', 'сила', 'сих', 'сказал', 'сказала', 'сказать', 'сколько', 'слишком', 'слово', 'случай', 'смотреть', 'сначала', 'снова', 'со', 'собой', 'собою', 'советский', 'совсем', 'спасибо', 'спросить', 'сразу', 'стал', 'старый', 'стать', 'стол', 'сторона', 'стоять', 'страна', 'суть', 'считать', 'т', 'та', 'так', 'такая', 'также', 'таки', 'такие', 'такое', 'такой', 'там', 'твои', 'твой', 'твоя', 'твоё', 'те', 'тебе', 'тебя', 'тем', 'тети', 'теперь', 'тех', 'то', 'тобой', 'тобою', 'товарищ', 'тогда', 'того', 'тоже', 'только', 'том', 'тому', 'тот', 'тою', 'третий', 'три', 'тринадцатый', 'тринадцать', 'ту', 'туда', 'тут', 'ты', 'тысяч', 'у', 'увидеть', 'уж', 'уже', 'улица', 'уметь', 'утро', 'хороший', 'хорошо', 'хотел бы', 'хотеть', 'хоть', 'хотя', 'хочешь', 'час', 'часто', 'часть', 'чаще', 'чего', 'человек', 'чем', 'чему', 'через', 'четвертый', 'четыре', 'четырнадцатый', 'четырнадцать', 'что', 'чтоб', 'чтобы', 'чуть', 'шестнадцатый', 'шестнадцать', 'шестой', 'шесть', 'эта', 'эти', 'этим', 'этими', 'этих', 'это', 'этого', 'этой', 'этом', 'этому', 'этот', 'эту', 'я', 'являюсь'}\n",
        "\n",
        "# Объединение русских и кастомных стоп-слов\n",
        "stopwords = rus_stopwords.union(custom_stopwords)\n",
        "\n",
        "# Установка tqdm для pandas\n",
        "tqdm.pandas()\n",
        "\n",
        "# Конфигурация pandas\n",
        "pd.set_option('display.max_colwidth', None)\n",
        "pd.set_option('display.max_rows', None)"
      ]
    },
    {
      "cell_type": "code",
      "execution_count": 12,
      "metadata": {
        "colab": {
          "base_uri": "https://localhost:8080/"
        },
        "id": "RkqjLF--SM9H",
        "outputId": "c19d3012-ee3a-4534-d0a0-e7006bc86e33"
      },
      "outputs": [
        {
          "output_type": "stream",
          "name": "stdout",
          "text": [
            "Mounted at /content/drive\n"
          ]
        }
      ],
      "source": [
        "# Подключение к google drive\n",
        "\n",
        "from google.colab import drive\n",
        "drive.mount('/content/drive', force_remount=True)"
      ]
    },
    {
      "cell_type": "code",
      "execution_count": 13,
      "metadata": {
        "id": "BFCTx4efR6eC",
        "colab": {
          "base_uri": "https://localhost:8080/",
          "height": 1000
        },
        "outputId": "ee7dbdb5-9a22-40e6-b98c-541fe9713bac"
      },
      "outputs": [
        {
          "output_type": "execute_result",
          "data": {
            "text/plain": [
              "                                                   url        review_tag  \\\n",
              "0  https://www.sravni.ru/bank/alfa-bank/otzyvy/762005/  currencyExchange   \n",
              "\n",
              "  date_review user_name      user_city             review_title  \\\n",
              "0  2024-03-31      Иван  Нижневартовск  Поход за обменом валюты   \n",
              "\n",
              "                                                                                                                                                                                                                                                                                                                                                                                                                                                                                                                                                                                                                                                                                                                                                                                                                                                                           review_text  \\\n",
              "0  1 марта я посетил обменный пункт в центре города для обмена валюты. Мне было необходимо обменять доллары на евро, так как планировал поездку в Европу.\\nПри входе в обменный пункт меня встретил приветливый сотрудник, который предложил мне выбрать удобное для меня время и место для проведения операции обмена. Я выбрал столик возле окна, чтобы иметь возможность наблюдать за улицей во время обмена валюты.\\nСотрудник предложил мне выгодный курс обмена и объяснил все условия операции. Я был приятно удивлен тем, что обмен прошел быстро и без лишних формальностей. Весь процесс занял всего несколько минут, и я получил нужную мне сумму евро.\\nОбменный пункт был чистым и уютным, а обслуживание на высоком уровне. Я остался доволен своим визитом и обменом валюты. Рекомендую этот обменный пункт всем, кто ищет надежное и выгодное место для обмена валюты.   \n",
              "\n",
              "  review_status  rating   bank_name     source  \n",
              "0  rateApproved       5  Альфа-Банк  sravni_ru  "
            ],
            "text/html": [
              "\n",
              "  <div id=\"df-c80ba0e4-b12a-4611-bff5-71f30e5cc91c\" class=\"colab-df-container\">\n",
              "    <div>\n",
              "<style scoped>\n",
              "    .dataframe tbody tr th:only-of-type {\n",
              "        vertical-align: middle;\n",
              "    }\n",
              "\n",
              "    .dataframe tbody tr th {\n",
              "        vertical-align: top;\n",
              "    }\n",
              "\n",
              "    .dataframe thead th {\n",
              "        text-align: right;\n",
              "    }\n",
              "</style>\n",
              "<table border=\"1\" class=\"dataframe\">\n",
              "  <thead>\n",
              "    <tr style=\"text-align: right;\">\n",
              "      <th></th>\n",
              "      <th>url</th>\n",
              "      <th>review_tag</th>\n",
              "      <th>date_review</th>\n",
              "      <th>user_name</th>\n",
              "      <th>user_city</th>\n",
              "      <th>review_title</th>\n",
              "      <th>review_text</th>\n",
              "      <th>review_status</th>\n",
              "      <th>rating</th>\n",
              "      <th>bank_name</th>\n",
              "      <th>source</th>\n",
              "    </tr>\n",
              "  </thead>\n",
              "  <tbody>\n",
              "    <tr>\n",
              "      <th>0</th>\n",
              "      <td>https://www.sravni.ru/bank/alfa-bank/otzyvy/762005/</td>\n",
              "      <td>currencyExchange</td>\n",
              "      <td>2024-03-31</td>\n",
              "      <td>Иван</td>\n",
              "      <td>Нижневартовск</td>\n",
              "      <td>Поход за обменом валюты</td>\n",
              "      <td>1 марта я посетил обменный пункт в центре города для обмена валюты. Мне было необходимо обменять доллары на евро, так как планировал поездку в Европу.\\nПри входе в обменный пункт меня встретил приветливый сотрудник, который предложил мне выбрать удобное для меня время и место для проведения операции обмена. Я выбрал столик возле окна, чтобы иметь возможность наблюдать за улицей во время обмена валюты.\\nСотрудник предложил мне выгодный курс обмена и объяснил все условия операции. Я был приятно удивлен тем, что обмен прошел быстро и без лишних формальностей. Весь процесс занял всего несколько минут, и я получил нужную мне сумму евро.\\nОбменный пункт был чистым и уютным, а обслуживание на высоком уровне. Я остался доволен своим визитом и обменом валюты. Рекомендую этот обменный пункт всем, кто ищет надежное и выгодное место для обмена валюты.</td>\n",
              "      <td>rateApproved</td>\n",
              "      <td>5</td>\n",
              "      <td>Альфа-Банк</td>\n",
              "      <td>sravni_ru</td>\n",
              "    </tr>\n",
              "  </tbody>\n",
              "</table>\n",
              "</div>\n",
              "    <div class=\"colab-df-buttons\">\n",
              "\n",
              "  <div class=\"colab-df-container\">\n",
              "    <button class=\"colab-df-convert\" onclick=\"convertToInteractive('df-c80ba0e4-b12a-4611-bff5-71f30e5cc91c')\"\n",
              "            title=\"Convert this dataframe to an interactive table.\"\n",
              "            style=\"display:none;\">\n",
              "\n",
              "  <svg xmlns=\"http://www.w3.org/2000/svg\" height=\"24px\" viewBox=\"0 -960 960 960\">\n",
              "    <path d=\"M120-120v-720h720v720H120Zm60-500h600v-160H180v160Zm220 220h160v-160H400v160Zm0 220h160v-160H400v160ZM180-400h160v-160H180v160Zm440 0h160v-160H620v160ZM180-180h160v-160H180v160Zm440 0h160v-160H620v160Z\"/>\n",
              "  </svg>\n",
              "    </button>\n",
              "\n",
              "  <style>\n",
              "    .colab-df-container {\n",
              "      display:flex;\n",
              "      gap: 12px;\n",
              "    }\n",
              "\n",
              "    .colab-df-convert {\n",
              "      background-color: #E8F0FE;\n",
              "      border: none;\n",
              "      border-radius: 50%;\n",
              "      cursor: pointer;\n",
              "      display: none;\n",
              "      fill: #1967D2;\n",
              "      height: 32px;\n",
              "      padding: 0 0 0 0;\n",
              "      width: 32px;\n",
              "    }\n",
              "\n",
              "    .colab-df-convert:hover {\n",
              "      background-color: #E2EBFA;\n",
              "      box-shadow: 0px 1px 2px rgba(60, 64, 67, 0.3), 0px 1px 3px 1px rgba(60, 64, 67, 0.15);\n",
              "      fill: #174EA6;\n",
              "    }\n",
              "\n",
              "    .colab-df-buttons div {\n",
              "      margin-bottom: 4px;\n",
              "    }\n",
              "\n",
              "    [theme=dark] .colab-df-convert {\n",
              "      background-color: #3B4455;\n",
              "      fill: #D2E3FC;\n",
              "    }\n",
              "\n",
              "    [theme=dark] .colab-df-convert:hover {\n",
              "      background-color: #434B5C;\n",
              "      box-shadow: 0px 1px 3px 1px rgba(0, 0, 0, 0.15);\n",
              "      filter: drop-shadow(0px 1px 2px rgba(0, 0, 0, 0.3));\n",
              "      fill: #FFFFFF;\n",
              "    }\n",
              "  </style>\n",
              "\n",
              "    <script>\n",
              "      const buttonEl =\n",
              "        document.querySelector('#df-c80ba0e4-b12a-4611-bff5-71f30e5cc91c button.colab-df-convert');\n",
              "      buttonEl.style.display =\n",
              "        google.colab.kernel.accessAllowed ? 'block' : 'none';\n",
              "\n",
              "      async function convertToInteractive(key) {\n",
              "        const element = document.querySelector('#df-c80ba0e4-b12a-4611-bff5-71f30e5cc91c');\n",
              "        const dataTable =\n",
              "          await google.colab.kernel.invokeFunction('convertToInteractive',\n",
              "                                                    [key], {});\n",
              "        if (!dataTable) return;\n",
              "\n",
              "        const docLinkHtml = 'Like what you see? Visit the ' +\n",
              "          '<a target=\"_blank\" href=https://colab.research.google.com/notebooks/data_table.ipynb>data table notebook</a>'\n",
              "          + ' to learn more about interactive tables.';\n",
              "        element.innerHTML = '';\n",
              "        dataTable['output_type'] = 'display_data';\n",
              "        await google.colab.output.renderOutput(dataTable, element);\n",
              "        const docLink = document.createElement('div');\n",
              "        docLink.innerHTML = docLinkHtml;\n",
              "        element.appendChild(docLink);\n",
              "      }\n",
              "    </script>\n",
              "  </div>\n",
              "\n",
              "    </div>\n",
              "  </div>\n"
            ],
            "application/vnd.google.colaboratory.intrinsic+json": {
              "type": "dataframe",
              "variable_name": "df",
              "summary": "{\n  \"name\": \"df\",\n  \"rows\": 95665,\n  \"fields\": [\n    {\n      \"column\": \"url\",\n      \"properties\": {\n        \"dtype\": \"string\",\n        \"num_unique_values\": 95665,\n        \"samples\": [\n          \"https://www.sravni.ru/bank/alfa-bank/otzyvy/691726/\",\n          \"https://www.sravni.ru/bank/alfa-bank/otzyvy/695479/\",\n          \"https://www.sravni.ru/bank/bank-domrf/otzyvy/677474/\"\n        ],\n        \"semantic_type\": \"\",\n        \"description\": \"\"\n      }\n    },\n    {\n      \"column\": \"review_tag\",\n      \"properties\": {\n        \"dtype\": \"category\",\n        \"num_unique_values\": 25,\n        \"samples\": [\n          \"bukhgalteriyaDlyaBiznesa\",\n          \"businessCredits\",\n          \"currencyExchange\"\n        ],\n        \"semantic_type\": \"\",\n        \"description\": \"\"\n      }\n    },\n    {\n      \"column\": \"date_review\",\n      \"properties\": {\n        \"dtype\": \"object\",\n        \"num_unique_values\": 456,\n        \"samples\": [\n          \"2023-03-24\",\n          \"2024-02-21\",\n          \"2023-04-26\"\n        ],\n        \"semantic_type\": \"\",\n        \"description\": \"\"\n      }\n    },\n    {\n      \"column\": \"user_name\",\n      \"properties\": {\n        \"dtype\": \"category\",\n        \"num_unique_values\": 8397,\n        \"samples\": [\n          \"\\u0422\\u0430\\u0442\\u044c\\u044f\\u043d\\u0430\",\n          \"\\u0425\\u0430\\u0442\",\n          \"\\u041c\\u0430\\u0440\\u0438\"\n        ],\n        \"semantic_type\": \"\",\n        \"description\": \"\"\n      }\n    },\n    {\n      \"column\": \"user_city\",\n      \"properties\": {\n        \"dtype\": \"category\",\n        \"num_unique_values\": 902,\n        \"samples\": [\n          \"\\u041a\\u0438\\u0440\\u0436\\u0430\\u0447\",\n          \"\\u041a\\u0443\\u043c\\u0435\\u0440\\u0442\\u0430\\u0443\",\n          \"\\u0420\\u043e\\u0441\\u0442\\u043e\\u0432\"\n        ],\n        \"semantic_type\": \"\",\n        \"description\": \"\"\n      }\n    },\n    {\n      \"column\": \"review_title\",\n      \"properties\": {\n        \"dtype\": \"string\",\n        \"num_unique_values\": 53078,\n        \"samples\": [\n          \"\\u0411\\u043b\\u0430\\u0433\\u043e\\u0434\\u0430\\u0440\\u043d\\u043e\\u0441\\u0442\\u044c \\u0437\\u0430 \\u0445\\u043e\\u0440\\u043e\\u0448\\u0443\\u044e \\u0440\\u0430\\u0431\\u043e\\u0442\\u0443\",\n          \"\\u043c\\u043e\\u0439 \\u043b\\u044e\\u0431\\u0438\\u043c\\u044b\\u0439 \\u0432\\u043a\\u043b\\u0430\\u0434 1410\",\n          \"\\u041f\\u043e\\u0433\\u0430\\u0448\\u0435\\u043d\\u0438\\u0435 \\u0438\\u043f\\u043e\\u0442\\u0435\\u043a\\u0438 \\u0438 \\u0435\\u0436\\u0435\\u043c\\u0435\\u0441\\u044f\\u0447\\u043d\\u043e\\u0433\\u043e \\u0432\\u0437\\u043d\\u043e\\u0441\\u0430 \\u043f\\u043e \\u0438\\u043f\\u043e\\u0442\\u0435\\u043a\\u0435 \\u043c\\u0430\\u0440\\u0442 2023. \\u0411\\u0430\\u043d\\u043a  \\u043c\\u0435\\u043d\\u044f\\u0435\\u0442 \\u043f\\u0440\\u0430\\u0432\\u0438\\u043b\\u0430 \\u043f\\u043e\\u0433\\u0430\\u0448\\u0435\\u043d\\u0438\\u044f\"\n        ],\n        \"semantic_type\": \"\",\n        \"description\": \"\"\n      }\n    },\n    {\n      \"column\": \"review_text\",\n      \"properties\": {\n        \"dtype\": \"string\",\n        \"num_unique_values\": 95606,\n        \"samples\": [\n          \"\\u041f\\u043e\\u043b\\u044c\\u0437\\u0443\\u044e\\u0441\\u044c \\u0434\\u0435\\u0431\\u0435\\u0442\\u043e\\u0432\\u043e\\u0439 \\u043a\\u0430\\u0440\\u0442\\u043e\\u0439, \\u043e\\u0442\\u043b\\u0438\\u0447\\u043d\\u044b\\u0439 \\u043a\\u044d\\u0448\\u0431\\u0435\\u043a \\u0432 \\u0434\\u0435\\u0439\\u0441\\u0442\\u0432\\u0438\\u0442\\u0435\\u043b\\u044c\\u043d\\u043e \\u043d\\u0443\\u0436\\u043d\\u044b\\u0445 \\u043a\\u0430\\u0442\\u0435\\u0433\\u043e\\u0440\\u0438\\u044f\\u0445. \\u041c\\u0438\\u043d\\u0438\\u043c\\u0430\\u043b\\u044c\\u043d\\u044b\\u0435 \\u043a\\u043e\\u043c\\u0438\\u0441\\u0441\\u0438\\u0438 \\u043d\\u0430 \\u043f\\u0435\\u0440\\u0435\\u0432\\u043e\\u0434\\u044b\",\n          \"\\u041a\\u0430\\u0440\\u0442\\u0430 \\u043e\\u0447\\u0435\\u043d\\u044c \\u0445\\u043e\\u0440\\u043e\\u0448\\u0430\\u044f, \\u0447\\u0430\\u0441\\u0442\\u043e \\u043f\\u043e\\u043b\\u044c\\u0437\\u0443\\u044e\\u0441\\u044c \\u0435\\u0451. \\u041e\\u0447\\u0435\\u043d\\u044c \\u0440\\u0435\\u043a\\u043e\\u043c\\u0435\\u043d\\u0434\\u0443\\u044e \\u044d\\u0442\\u0443 \\u043a\\u0430\\u0440\\u0442\\u0443 \\u043e\\u0444\\u043e\\u0440\\u043c\\u043b\\u044f\\u0439\\u0442\\u0435 \\u043e\\u043d\\u0430 \\u0431\\u0435\\u0441\\u043f\\u043b\\u0430\\u0442\\u043d\\u0430\\u044f \\u0438 \\u0432\\u0430\\u043c \\u043f\\u0440\\u0438\\u0432\\u0435\\u0437\\u0443\\u0442 \\u0435\\u0451 \\u043f\\u0440\\u044f\\u043c\\u043e \\u0434\\u043e\\u043c\\u043e\\u0439.\",\n          \"\\u0432\\u043b\\u0430\\u0434\\u0435\\u044e \\u043a\\u0430\\u0440\\u0442\\u043e\\u0439 \\u043c\\u0442\\u0441 \\u043a\\u044d\\u0448\\u0431\\u044d\\u043a(\\u0431\\u043e\\u043b\\u044c\\u0448\\u0435 3 \\u043b\\u0435\\u0442),\\u0438\\u0441\\u043f\\u0440\\u0430\\u0432\\u043d\\u043e \\u0432\\u043d\\u043e\\u0448\\u0443 \\u0435\\u0436\\u0435\\u043c\\u0435\\u0441\\u044f\\u0447\\u043d\\u044b\\u0435 \\u043c\\u0438\\u043d\\u0438\\u043c\\u0430\\u043b\\u044c\\u043d\\u044b\\u0435 \\u043f\\u043b\\u0430\\u0442\\u0435\\u0436\\u0438,\\u0441 \\u0443\\u0447\\u0451\\u0442\\u043e\\u043c \\u043f\\u0440\\u043e\\u0446\\u0435\\u043d\\u0442\\u0430 \\u0431\\u0430\\u043d\\u043a\\u0430,\\u0438 \\u0432\\u043e\\u0442 \\u043a\\u0430\\u043a \\u043a\\u0430\\u043e\\u0431\\u044b\\u0447\\u043d\\u043e \\u0432\\u043d\\u0451\\u0441 \\u043f\\u043b\\u0430\\u0442\\u0451\\u0436,\\u0432 \\u043f\\u0440\\u0438\\u043b\\u043e\\u0436\\u0435\\u043d\\u0438\\u0438 \\u0441\\u043d\\u0430\\u0447\\u0430\\u043b\\u0430 \\u043e\\u0442\\u043e\\u0431\\u0440\\u0430\\u0437\\u0438\\u043b\\u0441\\u044f \\u043f\\u0440\\u0430\\u0432\\u0438\\u043b\\u044c\\u043d\\u044b\\u0439 \\u0431\\u0430\\u043b\\u0430\\u043d\\u0441,\\u043d\\u043e \\u043d\\u0430 \\u0441\\u043b\\u0435\\u0434\\u0443\\u044e\\u0449\\u0438\\u0439 \\u0434\\u0435\\u043d\\u044c \\u043e\\u0442\\u043a\\u0440\\u044b\\u0432\\u0430\\u044e \\u043f\\u0440\\u0438\\u043b\\u043e\\u0436\\u0435\\u043d\\u0438\\u0435,\\u0441\\u0443\\u043c\\u043c\\u0430 \\u043c\\u0435\\u043d\\u044c\\u0448\\u0435 \\u043d\\u0430 10\\u0442\\u0440! \\u043d\\u0430\\u043f\\u0438\\u0441\\u0430\\u043b \\u0432 \\u0447\\u0430\\u0442(\\u043d\\u0438 \\u043e \\u0447\\u0451\\u043c)4 \\u0440\\u0430\\u0437\\u0430 \\u0437\\u0432\\u043e\\u043d\\u0438\\u043b \\u043d\\u0430 \\u0433\\u043e\\u0440\\u044f\\u0447\\u0443\\u044e \\u043b\\u0438\\u043d\\u0438\\u044e(\\u0441\\u0432\\u0435\\u0440\\u044f\\u044e\\u0442\\u0441\\u044f,\\u043a\\u0438\\u0432\\u0430\\u044e\\u0442,\\u0441\\u043e\\u0447\\u0443\\u0432\\u0441\\u0442\\u0432\\u0443\\u044e\\u0442),\\u043f\\u0435\\u0440\\u0432\\u044b\\u0435 \\u0434\\u0432\\u0430 \\u0440\\u0430\\u0437\\u0430 \\u0433\\u043e\\u0432\\u043e\\u0440\\u044f\\u0442- \\u043d\\u0430\\u0434\\u043e \\u043f\\u043e\\u0434\\u043e\\u0436\\u0434\\u0430\\u0442\\u044c 3 \\u0434\\u043d\\u044f,\\u043c\\u043e\\u043b \\u043f\\u043b\\u0430\\u0442\\u0451\\u0436 \\u043d\\u0435 \\u043f\\u0440\\u043e\\u0448\\u0451\\u043b(\\u0432\\u043d\\u043e\\u0441\\u0438\\u043b 2 \\u043f\\u043b\\u0430\\u0442\\u0435\\u0436\\u0430\\u043c\\u0438 \\u0441 \\u0438\\u043d\\u0442\\u0435\\u0440\\u0432\\u0430\\u043b\\u043e\\u043c 3\\u043c\\u0438\\u043d\\u0443\\u0442\\u044b,\\u0432 \\u043e\\u0434\\u043d\\u043e\\u043c \\u0438 \\u0442\\u043e\\u043c \\u0436\\u0435 \\u0431\\u0430\\u043d\\u043a\\u043e\\u043c\\u0430\\u0442\\u0435),\\u043d\\u0430 \\u043f\\u043e\\u0441\\u043b\\u0435\\u0434\\u0443\\u044e\\u0449\\u0438\\u0435 \\u043c\\u043e\\u0438 \\u0437\\u0432\\u043e\\u043d\\u043a\\u0438 ,\\u0433\\u043e\\u0432\\u043e\\u0440\\u044f\\u0442 \\u0441\\u0431\\u043e\\u0439 \\u044d\\u043b\\u0435\\u043a\\u0442\\u0440\\u043e\\u043d\\u043d\\u043e\\u0439 \\u0441\\u0438\\u0441\\u0442\\u0435\\u043c\\u044b,\\u043e\\u0444\\u043e\\u0440\\u043c\\u043b\\u044f\\u044e\\u0442 \\u0437\\u0430\\u044f\\u0432\\u043a\\u0438 \\u0432 \\u0442\\u0435\\u0445.\\u043e\\u0442\\u0434\\u0435\\u043b,\\u043d\\u0430 \\u0441\\u043b\\u0435\\u0434\\u0443\\u044e\\u0449\\u0438\\u0439 \\u0434\\u0435\\u043d\\u044c \\u043f\\u0440\\u0438\\u0445\\u043e\\u0434\\u044f\\u0442 \\u0441\\u043c\\u0441(\\u043c\\u044b \\u0432\\u0441\\u0451 \\u0438\\u0441\\u043f\\u0440\\u0430\\u0432\\u0438\\u043b\\u0438,\\u043f\\u0440\\u043e\\u0432\\u0435\\u0440\\u044c\\u0442\\u0435 \\u0432\\u0441\\u0451 \\u0440\\u0430\\u0431\\u043e\\u0442\\u0430\\u0435\\u0442)-\\u0437\\u0430\\u0445\\u043e\\u0436\\u0443 \\u0432 \\u043f\\u0440\\u0438\\u043b\\u043e\\u0436\\u0435\\u043d\\u0438\\u0435,\\u043d\\u0438 \\u0447\\u043a\\u0433\\u043e \\u043d\\u0435 \\u0438\\u0441\\u043f\\u0440\\u0430\\u0432\\u043b\\u0435\\u043d\\u043e,\\u0438 \\u0442\\u0430\\u043a 4 \\u0440\\u0430\\u0437\\u0430 \\u043f\\u043e\\u0434\\u0440\\u044f\\u0434,\\u043f\\u043e\\u0434\\u044a\\u0435\\u0445\\u0430\\u043b \\u043b\\u0438\\u0447\\u043d\\u043e \\u0432 \\u041f\\u0438\\u0442\\u0435\\u0440\\u0441\\u043a\\u0438\\u0439 \\u0444\\u0438\\u043b\\u0438\\u0430\\u043b \\u0431\\u0430\\u043d\\u043a\\u0430,\\u043d\\u0430 \\u0432\\u0441\\u0435 \\u043c\\u043e\\u0438 \\u0440\\u0430\\u0441\\u0441\\u043a\\u0430\\u0437\\u044b - \\u0441\\u043e\\u0447\\u0443\\u0432\\u0441\\u0442\\u0432\\u0443\\u044e\\u0442 \\u0438 \\u043f\\u0440\\u0435\\u0434\\u043b\\u0430\\u0433\\u0430\\u044e\\u0442 \\u0441\\u043d\\u043e\\u0432\\u0430 \\u043e\\u0444\\u043e\\u0440\\u043c\\u0438\\u0442\\u044c \\u0437\\u0430\\u044f\\u0432\\u043a\\u0443 \\u0432 \\u0442\\u0435\\u0445.\\u043e\\u0442\\u0434\\u0435\\u043b,\\u043e\\u0431\\u044a\\u044f\\u0441\\u043d\\u044f\\u044e \\u0438\\u043c \\u041d\\u0410 \\u0420\\u0423\\u0421\\u0421\\u041a\\u041e\\u041c \\u044f\\u0437\\u044b\\u043a\\u0435,\\u0447\\u0442\\u043e \\u043e\\u0431\\u0440\\u0430\\u0449\\u0430\\u043b\\u0441\\u044f \\u0443\\u0436\\u0435 4 \\u0440\\u0430\\u0437\\u0430,\\u044d\\u0444\\u0435\\u043a\\u0442\\u0430 \\u043d\\u043e\\u043b\\u044c,\\u043e\\u0442\\u0433\\u043e\\u0432\\u043e\\u0440\\u043a\\u0430 -\\u043d\\u0435 \\u043a\\u043e\\u043c\\u043f\\u0435\\u0442\\u0435\\u043d\\u0442\\u043d\\u044b,\\u0432\\u043e\\u043f\\u0440\\u043e\\u0441 \\u043a \\u043f\\u0440\\u0435\\u0434\\u0441\\u0442\\u0430\\u0432\\u0438\\u0442\\u0435\\u043b\\u044e \\u0431\\u0430\\u043d\\u043a\\u0430 \\u0430 \\u043a\\u0442\\u043e \\u043a\\u043e\\u043c\\u043f\\u0435\\u0442\\u0435\\u043d\\u0442\\u0435\\u043d?\\u0438 \\u043a\\u0430\\u043a \\u0440\\u0435\\u0448\\u0438\\u0442\\u044c \\u043c\\u043e\\u0439 \\u0432\\u043e\\u043f\\u0440\\u043e\\u0441?(\\u0441 \\u043a\\u0435\\u043c?) \\u043d\\u0430\\u043f\\u0438\\u0441\\u0430\\u043b \\u0437\\u0430\\u044f\\u0432\\u043b\\u0435\\u043d\\u0438\\u0435-\\u043e\\u0442\\u0432\\u0435\\u0442\\u0430 \\u043d\\u0435\\u0442! \\u0432\\u0440\\u0435\\u043c\\u044f \\u0438\\u0434\\u0451\\u0442,\\u043c\\u0435\\u0441\\u044f\\u0446 \\u043a\\u043e\\u0440\\u043e\\u0442\\u043a\\u0438\\u0439,\\u043f\\u0440\\u0438\\u043b\\u043e\\u0436\\u0435\\u043d\\u0438\\u0435 \\u043d\\u0430\\u0447\\u0438\\u0441\\u043b\\u044f\\u0435\\u0442 \\u043f\\u0440\\u043e\\u0446\\u0435\\u043d\\u0442\\u044b \\u0435\\u0436\\u0435\\u0434\\u043d\\u0435\\u0432\\u043d\\u043e(\\u0432\\u043f\\u043e\\u043b\\u043d\\u0435 \\u0438\\u0441\\u043f\\u0440\\u0430\\u0432\\u043d\\u043e)-\\u043d\\u0430 \\u0441\\u0443\\u043c\\u043c\\u0443 \\u043d\\u0435 \\u0441\\u043e\\u043e\\u0442\\u0432\\u0435\\u0442\\u0441\\u0442\\u0432\\u0443\\u044e\\u0449\\u0443\\u044e \\u0431\\u0430\\u043b\\u0430\\u043d\\u0441\\u0443! \\u0447\\u0442\\u043e \\u043c\\u043d\\u0435 \\u0434\\u0435\\u043b\\u0430\\u0442\\u044c \\u0438 \\u043a \\u043a\\u043e\\u043c\\u0443 \\u043e\\u0431\\u0440\\u0430\\u0449\\u0430\\u0442\\u044c\\u0441\\u044f? \\u043d\\u0430 \\u0440\\u0443\\u043a\\u0430\\u0445 \\u0438\\u043c\\u0435\\u044e \\u0432\\u0441\\u0435 \\u0441\\u043a\\u0440\\u0438\\u043d\\u044b \\u0441 \\u0431\\u0430\\u043b\\u0430\\u043d\\u0441\\u0430\\u043c\\u0438 \\u0434\\u043e \\u0432\\u043d\\u0435\\u0441\\u0435\\u043d\\u0438\\u044f \\u043f\\u043b\\u0430\\u0442\\u0435\\u0436\\u0430 \\u0438 \\u043f\\u043e\\u0441\\u043b\\u0435,\\u043e\\u0431\\u0440\\u0430\\u0449\\u0435\\u043d\\u0438\\u044f \\u0438 \\u043d\\u043e\\u043c\\u0435\\u0440\\u0430 \\u0432\\u0445\\u043e\\u0434\\u044f\\u0449\\u0438\\u0445 \\u0437\\u0430\\u044f\\u0432\\u043e\\u043a.\"\n        ],\n        \"semantic_type\": \"\",\n        \"description\": \"\"\n      }\n    },\n    {\n      \"column\": \"review_status\",\n      \"properties\": {\n        \"dtype\": \"category\",\n        \"num_unique_values\": 3,\n        \"samples\": [\n          \"rateApproved\",\n          \"rateRejected\",\n          \"rateChecking\"\n        ],\n        \"semantic_type\": \"\",\n        \"description\": \"\"\n      }\n    },\n    {\n      \"column\": \"rating\",\n      \"properties\": {\n        \"dtype\": \"number\",\n        \"std\": 2,\n        \"min\": 0,\n        \"max\": 5,\n        \"num_unique_values\": 6,\n        \"samples\": [\n          5,\n          0,\n          3\n        ],\n        \"semantic_type\": \"\",\n        \"description\": \"\"\n      }\n    },\n    {\n      \"column\": \"bank_name\",\n      \"properties\": {\n        \"dtype\": \"category\",\n        \"num_unique_values\": 118,\n        \"samples\": [\n          \"\\u0412\\u0430\\u0439\\u043b\\u0434\\u0431\\u0435\\u0440\\u0440\\u0438\\u0437 \\u0411\\u0430\\u043d\\u043a\",\n          \"\\u0427\\u0435\\u043b\\u0438\\u043d\\u0434\\u0431\\u0430\\u043d\\u043a\",\n          \"\\u0422-\\u0411\\u0430\\u043d\\u043a\"\n        ],\n        \"semantic_type\": \"\",\n        \"description\": \"\"\n      }\n    },\n    {\n      \"column\": \"source\",\n      \"properties\": {\n        \"dtype\": \"category\",\n        \"num_unique_values\": 1,\n        \"samples\": [\n          \"sravni_ru\"\n        ],\n        \"semantic_type\": \"\",\n        \"description\": \"\"\n      }\n    }\n  ]\n}"
            }
          },
          "metadata": {},
          "execution_count": 13
        }
      ],
      "source": [
        "df = pd.read_csv('/content/drive/MyDrive/bank_reviews_nlp/df_sravni.csv')\n",
        "\n",
        "df.head(1)"
      ]
    },
    {
      "cell_type": "code",
      "execution_count": 14,
      "metadata": {
        "id": "o50aS8hqixJD",
        "colab": {
          "base_uri": "https://localhost:8080/"
        },
        "outputId": "cc69977b-2316-40cb-b60d-162ad68f9151"
      },
      "outputs": [
        {
          "output_type": "stream",
          "name": "stdout",
          "text": [
            "<class 'pandas.core.frame.DataFrame'>\n",
            "RangeIndex: 95665 entries, 0 to 95664\n",
            "Data columns (total 11 columns):\n",
            " #   Column         Non-Null Count  Dtype \n",
            "---  ------         --------------  ----- \n",
            " 0   url            95665 non-null  object\n",
            " 1   review_tag     95665 non-null  object\n",
            " 2   date_review    95665 non-null  object\n",
            " 3   user_name      95665 non-null  object\n",
            " 4   user_city      95665 non-null  object\n",
            " 5   review_title   95665 non-null  object\n",
            " 6   review_text    95665 non-null  object\n",
            " 7   review_status  95665 non-null  object\n",
            " 8   rating         95665 non-null  int64 \n",
            " 9   bank_name      95665 non-null  object\n",
            " 10  source         95665 non-null  object\n",
            "dtypes: int64(1), object(10)\n",
            "memory usage: 8.0+ MB\n"
          ]
        }
      ],
      "source": [
        "df.info()"
      ]
    },
    {
      "cell_type": "code",
      "execution_count": 15,
      "metadata": {
        "id": "bB4YN_2wXuc_",
        "colab": {
          "base_uri": "https://localhost:8080/",
          "height": 889
        },
        "outputId": "a83ca68e-bbfe-4045-d799-a5227c8d4570"
      },
      "outputs": [
        {
          "output_type": "execute_result",
          "data": {
            "text/plain": [
              "review_tag\n",
              "debitCards                  38584\n",
              "creditCards                 15508\n",
              "serviceLevel                11673\n",
              "remoteService                8626\n",
              "mobilnoyeprilozheniye        4711\n",
              "credits                      4486\n",
              "savings                      4396\n",
              "other                        2412\n",
              "autocredits                  1330\n",
              "mortgage                     1229\n",
              "businessRko                   801\n",
              "creditRefinancing             574\n",
              "currencyExchange              468\n",
              "biznesRegistration            188\n",
              "businessCredits               187\n",
              "acquiring                     146\n",
              "business                      101\n",
              "mortgageRefinancing            97\n",
              "businessDeposit                55\n",
              "biznesNaMarketpleysakh         43\n",
              "bukhgalteriyaDlyaBiznesa       33\n",
              "bankGuarantees                  7\n",
              "factoring                       5\n",
              "leasing                         4\n",
              "investitsiiVMfo                 1\n",
              "Name: count, dtype: int64"
            ],
            "text/html": [
              "<div>\n",
              "<style scoped>\n",
              "    .dataframe tbody tr th:only-of-type {\n",
              "        vertical-align: middle;\n",
              "    }\n",
              "\n",
              "    .dataframe tbody tr th {\n",
              "        vertical-align: top;\n",
              "    }\n",
              "\n",
              "    .dataframe thead th {\n",
              "        text-align: right;\n",
              "    }\n",
              "</style>\n",
              "<table border=\"1\" class=\"dataframe\">\n",
              "  <thead>\n",
              "    <tr style=\"text-align: right;\">\n",
              "      <th></th>\n",
              "      <th>count</th>\n",
              "    </tr>\n",
              "    <tr>\n",
              "      <th>review_tag</th>\n",
              "      <th></th>\n",
              "    </tr>\n",
              "  </thead>\n",
              "  <tbody>\n",
              "    <tr>\n",
              "      <th>debitCards</th>\n",
              "      <td>38584</td>\n",
              "    </tr>\n",
              "    <tr>\n",
              "      <th>creditCards</th>\n",
              "      <td>15508</td>\n",
              "    </tr>\n",
              "    <tr>\n",
              "      <th>serviceLevel</th>\n",
              "      <td>11673</td>\n",
              "    </tr>\n",
              "    <tr>\n",
              "      <th>remoteService</th>\n",
              "      <td>8626</td>\n",
              "    </tr>\n",
              "    <tr>\n",
              "      <th>mobilnoyeprilozheniye</th>\n",
              "      <td>4711</td>\n",
              "    </tr>\n",
              "    <tr>\n",
              "      <th>credits</th>\n",
              "      <td>4486</td>\n",
              "    </tr>\n",
              "    <tr>\n",
              "      <th>savings</th>\n",
              "      <td>4396</td>\n",
              "    </tr>\n",
              "    <tr>\n",
              "      <th>other</th>\n",
              "      <td>2412</td>\n",
              "    </tr>\n",
              "    <tr>\n",
              "      <th>autocredits</th>\n",
              "      <td>1330</td>\n",
              "    </tr>\n",
              "    <tr>\n",
              "      <th>mortgage</th>\n",
              "      <td>1229</td>\n",
              "    </tr>\n",
              "    <tr>\n",
              "      <th>businessRko</th>\n",
              "      <td>801</td>\n",
              "    </tr>\n",
              "    <tr>\n",
              "      <th>creditRefinancing</th>\n",
              "      <td>574</td>\n",
              "    </tr>\n",
              "    <tr>\n",
              "      <th>currencyExchange</th>\n",
              "      <td>468</td>\n",
              "    </tr>\n",
              "    <tr>\n",
              "      <th>biznesRegistration</th>\n",
              "      <td>188</td>\n",
              "    </tr>\n",
              "    <tr>\n",
              "      <th>businessCredits</th>\n",
              "      <td>187</td>\n",
              "    </tr>\n",
              "    <tr>\n",
              "      <th>acquiring</th>\n",
              "      <td>146</td>\n",
              "    </tr>\n",
              "    <tr>\n",
              "      <th>business</th>\n",
              "      <td>101</td>\n",
              "    </tr>\n",
              "    <tr>\n",
              "      <th>mortgageRefinancing</th>\n",
              "      <td>97</td>\n",
              "    </tr>\n",
              "    <tr>\n",
              "      <th>businessDeposit</th>\n",
              "      <td>55</td>\n",
              "    </tr>\n",
              "    <tr>\n",
              "      <th>biznesNaMarketpleysakh</th>\n",
              "      <td>43</td>\n",
              "    </tr>\n",
              "    <tr>\n",
              "      <th>bukhgalteriyaDlyaBiznesa</th>\n",
              "      <td>33</td>\n",
              "    </tr>\n",
              "    <tr>\n",
              "      <th>bankGuarantees</th>\n",
              "      <td>7</td>\n",
              "    </tr>\n",
              "    <tr>\n",
              "      <th>factoring</th>\n",
              "      <td>5</td>\n",
              "    </tr>\n",
              "    <tr>\n",
              "      <th>leasing</th>\n",
              "      <td>4</td>\n",
              "    </tr>\n",
              "    <tr>\n",
              "      <th>investitsiiVMfo</th>\n",
              "      <td>1</td>\n",
              "    </tr>\n",
              "  </tbody>\n",
              "</table>\n",
              "</div><br><label><b>dtype:</b> int64</label>"
            ]
          },
          "metadata": {},
          "execution_count": 15
        }
      ],
      "source": [
        "df.review_tag.value_counts()"
      ]
    },
    {
      "cell_type": "markdown",
      "metadata": {
        "id": "DGf1LzkKM0iS"
      },
      "source": [
        "Обрежем совсем маленькие категории, где меньше 400 обращений. Будем работать с 12 категориями"
      ]
    },
    {
      "cell_type": "code",
      "execution_count": 16,
      "metadata": {
        "id": "yyCxhRy1U8GE"
      },
      "outputs": [],
      "source": [
        "counts = df.review_tag.value_counts()\n",
        "df['review_tag'] = df['review_tag'].replace(counts[counts < 400].index, 'other')\n",
        "\n",
        "df = df[df['review_tag'].isin(counts[counts >= 400].index)]\n",
        "df = df[df['review_tag'] != 'other']"
      ]
    },
    {
      "cell_type": "code",
      "execution_count": 17,
      "metadata": {
        "id": "UoJ-oYJLiz_o",
        "colab": {
          "base_uri": "https://localhost:8080/"
        },
        "outputId": "698daff4-aa17-47ac-ce54-a48f952370d5"
      },
      "outputs": [
        {
          "output_type": "stream",
          "name": "stdout",
          "text": [
            "<class 'pandas.core.frame.DataFrame'>\n",
            "Index: 92386 entries, 0 to 95663\n",
            "Data columns (total 11 columns):\n",
            " #   Column         Non-Null Count  Dtype \n",
            "---  ------         --------------  ----- \n",
            " 0   url            92386 non-null  object\n",
            " 1   review_tag     92386 non-null  object\n",
            " 2   date_review    92386 non-null  object\n",
            " 3   user_name      92386 non-null  object\n",
            " 4   user_city      92386 non-null  object\n",
            " 5   review_title   92386 non-null  object\n",
            " 6   review_text    92386 non-null  object\n",
            " 7   review_status  92386 non-null  object\n",
            " 8   rating         92386 non-null  int64 \n",
            " 9   bank_name      92386 non-null  object\n",
            " 10  source         92386 non-null  object\n",
            "dtypes: int64(1), object(10)\n",
            "memory usage: 8.5+ MB\n"
          ]
        }
      ],
      "source": [
        "df.info()"
      ]
    },
    {
      "cell_type": "code",
      "source": [
        "df.review_tag.value_counts()"
      ],
      "metadata": {
        "id": "0zPtkq_2XF_T",
        "colab": {
          "base_uri": "https://localhost:8080/",
          "height": 486
        },
        "outputId": "90816fe6-3060-47fc-8225-d3d913a97a13"
      },
      "execution_count": 18,
      "outputs": [
        {
          "output_type": "execute_result",
          "data": {
            "text/plain": [
              "review_tag\n",
              "debitCards               38584\n",
              "creditCards              15508\n",
              "serviceLevel             11673\n",
              "remoteService             8626\n",
              "mobilnoyeprilozheniye     4711\n",
              "credits                   4486\n",
              "savings                   4396\n",
              "autocredits               1330\n",
              "mortgage                  1229\n",
              "businessRko                801\n",
              "creditRefinancing          574\n",
              "currencyExchange           468\n",
              "Name: count, dtype: int64"
            ],
            "text/html": [
              "<div>\n",
              "<style scoped>\n",
              "    .dataframe tbody tr th:only-of-type {\n",
              "        vertical-align: middle;\n",
              "    }\n",
              "\n",
              "    .dataframe tbody tr th {\n",
              "        vertical-align: top;\n",
              "    }\n",
              "\n",
              "    .dataframe thead th {\n",
              "        text-align: right;\n",
              "    }\n",
              "</style>\n",
              "<table border=\"1\" class=\"dataframe\">\n",
              "  <thead>\n",
              "    <tr style=\"text-align: right;\">\n",
              "      <th></th>\n",
              "      <th>count</th>\n",
              "    </tr>\n",
              "    <tr>\n",
              "      <th>review_tag</th>\n",
              "      <th></th>\n",
              "    </tr>\n",
              "  </thead>\n",
              "  <tbody>\n",
              "    <tr>\n",
              "      <th>debitCards</th>\n",
              "      <td>38584</td>\n",
              "    </tr>\n",
              "    <tr>\n",
              "      <th>creditCards</th>\n",
              "      <td>15508</td>\n",
              "    </tr>\n",
              "    <tr>\n",
              "      <th>serviceLevel</th>\n",
              "      <td>11673</td>\n",
              "    </tr>\n",
              "    <tr>\n",
              "      <th>remoteService</th>\n",
              "      <td>8626</td>\n",
              "    </tr>\n",
              "    <tr>\n",
              "      <th>mobilnoyeprilozheniye</th>\n",
              "      <td>4711</td>\n",
              "    </tr>\n",
              "    <tr>\n",
              "      <th>credits</th>\n",
              "      <td>4486</td>\n",
              "    </tr>\n",
              "    <tr>\n",
              "      <th>savings</th>\n",
              "      <td>4396</td>\n",
              "    </tr>\n",
              "    <tr>\n",
              "      <th>autocredits</th>\n",
              "      <td>1330</td>\n",
              "    </tr>\n",
              "    <tr>\n",
              "      <th>mortgage</th>\n",
              "      <td>1229</td>\n",
              "    </tr>\n",
              "    <tr>\n",
              "      <th>businessRko</th>\n",
              "      <td>801</td>\n",
              "    </tr>\n",
              "    <tr>\n",
              "      <th>creditRefinancing</th>\n",
              "      <td>574</td>\n",
              "    </tr>\n",
              "    <tr>\n",
              "      <th>currencyExchange</th>\n",
              "      <td>468</td>\n",
              "    </tr>\n",
              "  </tbody>\n",
              "</table>\n",
              "</div><br><label><b>dtype:</b> int64</label>"
            ]
          },
          "metadata": {},
          "execution_count": 18
        }
      ]
    },
    {
      "cell_type": "markdown",
      "metadata": {
        "id": "dUVOlyp7M5gj"
      },
      "source": [
        "Переведем категории на русский язык"
      ]
    },
    {
      "cell_type": "code",
      "execution_count": 19,
      "metadata": {
        "id": "OcAUXC0pSFQ9"
      },
      "outputs": [],
      "source": [
        "sravni_ru_replace = {'debitCards':'Дебетовые карты',\n",
        "                     'creditCards':'Кредитные карты',\n",
        "                     'serviceLevel':'Обслуживание',\n",
        "                     'remoteService':'Дистанционное обслуживание',\n",
        "                     'mobilnoyeprilozheniye':'Мобильное приложение',\n",
        "                     'credits':'Кредиты наличными',\n",
        "                     'savings':'Вклады',\n",
        "                     'other':'Другие услуги',\n",
        "                     'autocredits':'Автокредиты',\n",
        "                     'mortgage':'Ипотека',\n",
        "                     'businessRko':'РКО',\n",
        "                     'creditRefinancing':'Рефинансирование кредитов',\n",
        "                     'currencyExchange':'Обмен валют'}\n",
        "\n",
        "for old_value, new_value in sravni_ru_replace.items():\n",
        "    df['review_tag'] = df['review_tag'].replace(old_value, new_value)"
      ]
    },
    {
      "cell_type": "code",
      "execution_count": 20,
      "metadata": {
        "id": "OUMvrnxPkPTz",
        "colab": {
          "base_uri": "https://localhost:8080/",
          "height": 486
        },
        "outputId": "3a438537-1916-4ed8-e7bc-69caa2ef1c65"
      },
      "outputs": [
        {
          "output_type": "execute_result",
          "data": {
            "text/plain": [
              "review_tag\n",
              "Дебетовые карты               38584\n",
              "Кредитные карты               15508\n",
              "Обслуживание                  11673\n",
              "Дистанционное обслуживание     8626\n",
              "Мобильное приложение           4711\n",
              "Кредиты наличными              4486\n",
              "Вклады                         4396\n",
              "Автокредиты                    1330\n",
              "Ипотека                        1229\n",
              "РКО                             801\n",
              "Рефинансирование кредитов       574\n",
              "Обмен валют                     468\n",
              "Name: count, dtype: int64"
            ],
            "text/html": [
              "<div>\n",
              "<style scoped>\n",
              "    .dataframe tbody tr th:only-of-type {\n",
              "        vertical-align: middle;\n",
              "    }\n",
              "\n",
              "    .dataframe tbody tr th {\n",
              "        vertical-align: top;\n",
              "    }\n",
              "\n",
              "    .dataframe thead th {\n",
              "        text-align: right;\n",
              "    }\n",
              "</style>\n",
              "<table border=\"1\" class=\"dataframe\">\n",
              "  <thead>\n",
              "    <tr style=\"text-align: right;\">\n",
              "      <th></th>\n",
              "      <th>count</th>\n",
              "    </tr>\n",
              "    <tr>\n",
              "      <th>review_tag</th>\n",
              "      <th></th>\n",
              "    </tr>\n",
              "  </thead>\n",
              "  <tbody>\n",
              "    <tr>\n",
              "      <th>Дебетовые карты</th>\n",
              "      <td>38584</td>\n",
              "    </tr>\n",
              "    <tr>\n",
              "      <th>Кредитные карты</th>\n",
              "      <td>15508</td>\n",
              "    </tr>\n",
              "    <tr>\n",
              "      <th>Обслуживание</th>\n",
              "      <td>11673</td>\n",
              "    </tr>\n",
              "    <tr>\n",
              "      <th>Дистанционное обслуживание</th>\n",
              "      <td>8626</td>\n",
              "    </tr>\n",
              "    <tr>\n",
              "      <th>Мобильное приложение</th>\n",
              "      <td>4711</td>\n",
              "    </tr>\n",
              "    <tr>\n",
              "      <th>Кредиты наличными</th>\n",
              "      <td>4486</td>\n",
              "    </tr>\n",
              "    <tr>\n",
              "      <th>Вклады</th>\n",
              "      <td>4396</td>\n",
              "    </tr>\n",
              "    <tr>\n",
              "      <th>Автокредиты</th>\n",
              "      <td>1330</td>\n",
              "    </tr>\n",
              "    <tr>\n",
              "      <th>Ипотека</th>\n",
              "      <td>1229</td>\n",
              "    </tr>\n",
              "    <tr>\n",
              "      <th>РКО</th>\n",
              "      <td>801</td>\n",
              "    </tr>\n",
              "    <tr>\n",
              "      <th>Рефинансирование кредитов</th>\n",
              "      <td>574</td>\n",
              "    </tr>\n",
              "    <tr>\n",
              "      <th>Обмен валют</th>\n",
              "      <td>468</td>\n",
              "    </tr>\n",
              "  </tbody>\n",
              "</table>\n",
              "</div><br><label><b>dtype:</b> int64</label>"
            ]
          },
          "metadata": {},
          "execution_count": 20
        }
      ],
      "source": [
        "df.review_tag.value_counts()"
      ]
    },
    {
      "cell_type": "markdown",
      "source": [
        "Предобработка текста"
      ],
      "metadata": {
        "id": "AWB0RroVg1N5"
      }
    },
    {
      "cell_type": "code",
      "execution_count": 21,
      "metadata": {
        "id": "4spbw3OOm3MK",
        "colab": {
          "base_uri": "https://localhost:8080/"
        },
        "outputId": "ff34941c-5c06-465f-8ca9-03e33e5e583f"
      },
      "outputs": [
        {
          "output_type": "stream",
          "name": "stderr",
          "text": [
            "100%|██████████| 92386/92386 [00:31<00:00, 2891.18it/s]\n"
          ]
        }
      ],
      "source": [
        "morph = pymorphy3.MorphAnalyzer()\n",
        "\n",
        "def preprocess_text(text):\n",
        "\n",
        "    text = text.lower()\n",
        "    text = re.sub(r'[^а-яё]', ' ', text)\n",
        "    words = text.split()\n",
        "    words = [morph.parse(word)[0].normal_form for word in words if word not in stopwords]\n",
        "\n",
        "    return ' '.join(words)\n",
        "\n",
        "df['review_title_cleaned'] = df['review_title'].progress_apply(preprocess_text)"
      ]
    },
    {
      "cell_type": "code",
      "execution_count": 22,
      "metadata": {
        "id": "1Uk28InbktmN",
        "colab": {
          "base_uri": "https://localhost:8080/"
        },
        "outputId": "27e3dfa7-84ea-4671-f086-b7a083679226"
      },
      "outputs": [
        {
          "output_type": "stream",
          "name": "stderr",
          "text": [
            "100%|██████████| 92386/92386 [05:30<00:00, 279.44it/s]\n"
          ]
        }
      ],
      "source": [
        "df['review_text_cleaned'] = df['review_text'].progress_apply(preprocess_text)"
      ]
    },
    {
      "cell_type": "code",
      "source": [
        "df['all_text'] = df['review_title_cleaned'].fillna('') + ' ' + df['review_text_cleaned']"
      ],
      "metadata": {
        "id": "0TA7gPNXrOYt"
      },
      "execution_count": 23,
      "outputs": []
    },
    {
      "cell_type": "markdown",
      "metadata": {
        "id": "gA6f8ealNPVj"
      },
      "source": [
        "Посмотрим, сколько слов в обращениях"
      ]
    },
    {
      "cell_type": "code",
      "execution_count": 24,
      "metadata": {
        "id": "NarLemtBcPp7",
        "colab": {
          "base_uri": "https://localhost:8080/",
          "height": 413
        },
        "outputId": "2aa007cb-2f7c-4d04-ff6b-524c9bda3d87"
      },
      "outputs": [
        {
          "output_type": "display_data",
          "data": {
            "text/plain": [
              "<Figure size 1000x600 with 1 Axes>"
            ],
            "image/png": "[encoded data removed]"
          },
          "metadata": {}
        }
      ],
      "source": [
        "df['word_count'] = df['all_text'].apply(lambda x: len(x.split()))\n",
        "\n",
        "plt.figure(figsize=(10, 6))\n",
        "plt.hist(df['word_count'], bins=100, color='blue', edgecolor='black')\n",
        "plt.title('Количество слов в каждом отзыве')\n",
        "plt.xlabel('Количество слов')\n",
        "plt.ylabel('Частота');"
      ]
    },
    {
      "cell_type": "code",
      "source": [
        "df = df[df.word_count >= 1]"
      ],
      "metadata": {
        "id": "HWpFDnF4sJ0F"
      },
      "execution_count": 25,
      "outputs": []
    },
    {
      "cell_type": "markdown",
      "metadata": {
        "id": "sKUjY654PA-k"
      },
      "source": [
        "Дополнительно почистим текст и уберем все названия банков, добавив их в список стоп-слов. Для того, чтобы LDA не разбивал обращения на основе этих названий"
      ]
    },
    {
      "cell_type": "code",
      "execution_count": 26,
      "metadata": {
        "id": "nQOYC--FI1_l"
      },
      "outputs": [],
      "source": [
        "def clean_bank_name(name):\n",
        "\n",
        "    name = name.lower()\n",
        "    name = re.sub(r'\\s*банк\\s*', '', name)\n",
        "    name = re.sub(r'[-\\s]', '', name)\n",
        "    return name\n",
        "\n",
        "unique_bank_names = df.bank_name.unique()\n",
        "cleaned_bank_names = list(map(clean_bank_name, unique_bank_names))\n",
        "\n",
        "stopwords_bank_name = set(cleaned_bank_names)"
      ]
    },
    {
      "cell_type": "markdown",
      "metadata": {
        "id": "3xQArChePVT8"
      },
      "source": [
        "Также уберем слова, которые встречаются почти в каждой категории. Для этого мы прогнали алгоритм на всех категориях, затем нашли в них эти слова, убрали их и обучили алгоритм заново"
      ]
    },
    {
      "cell_type": "code",
      "execution_count": 27,
      "metadata": {
        "id": "AFpxvrTbQGmd"
      },
      "outputs": [],
      "source": [
        "freq_stopwords = {'банк', 'карта', 'клиент', 'тинькофф', 'совкомбанк', 'пользоваться', 'месяц'}"
      ]
    },
    {
      "cell_type": "code",
      "execution_count": 28,
      "metadata": {
        "id": "IU6rUJpfAS3X"
      },
      "outputs": [],
      "source": [
        "stopwords = stopwords.union(stopwords_bank_name, freq_stopwords)\n",
        "\n",
        "stopwords = list(stopwords)"
      ]
    },
    {
      "cell_type": "markdown",
      "source": [
        "Векторизация"
      ],
      "metadata": {
        "id": "I_V3kXBninr_"
      }
    },
    {
      "cell_type": "code",
      "execution_count": 29,
      "metadata": {
        "id": "42wsgN-JUBjq",
        "colab": {
          "base_uri": "https://localhost:8080/",
          "height": 114
        },
        "outputId": "840161a2-3e0b-4442-bf9f-859f31ab55b6"
      },
      "outputs": [
        {
          "output_type": "stream",
          "name": "stdout",
          "text": [
            "CPU times: user 21.7 s, sys: 1.77 s, total: 23.4 s\n",
            "Wall time: 7min 4s\n"
          ]
        },
        {
          "output_type": "execute_result",
          "data": {
            "text/plain": [
              "LatentDirichletAllocation(n_components=12, n_jobs=-1, random_state=42)"
            ],
            "text/html": [
              "<style>#sk-container-id-1 {\n",
              "  /* Definition of color scheme common for light and dark mode */\n",
              "  --sklearn-color-text: #000;\n",
              "  --sklearn-color-text-muted: #666;\n",
              "  --sklearn-color-line: gray;\n",
              "  /* Definition of color scheme for unfitted estimators */\n",
              "  --sklearn-color-unfitted-level-0: #fff5e6;\n",
              "  --sklearn-color-unfitted-level-1: #f6e4d2;\n",
              "  --sklearn-color-unfitted-level-2: #ffe0b3;\n",
              "  --sklearn-color-unfitted-level-3: chocolate;\n",
              "  /* Definition of color scheme for fitted estimators */\n",
              "  --sklearn-color-fitted-level-0: #f0f8ff;\n",
              "  --sklearn-color-fitted-level-1: #d4ebff;\n",
              "  --sklearn-color-fitted-level-2: #b3dbfd;\n",
              "  --sklearn-color-fitted-level-3: cornflowerblue;\n",
              "\n",
              "  /* Specific color for light theme */\n",
              "  --sklearn-color-text-on-default-background: var(--sg-text-color, var(--theme-code-foreground, var(--jp-content-font-color1, black)));\n",
              "  --sklearn-color-background: var(--sg-background-color, var(--theme-background, var(--jp-layout-color0, white)));\n",
              "  --sklearn-color-border-box: var(--sg-text-color, var(--theme-code-foreground, var(--jp-content-font-color1, black)));\n",
              "  --sklearn-color-icon: #696969;\n",
              "\n",
              "  @media (prefers-color-scheme: dark) {\n",
              "    /* Redefinition of color scheme for dark theme */\n",
              "    --sklearn-color-text-on-default-background: var(--sg-text-color, var(--theme-code-foreground, var(--jp-content-font-color1, white)));\n",
              "    --sklearn-color-background: var(--sg-background-color, var(--theme-background, var(--jp-layout-color0, #111)));\n",
              "    --sklearn-color-border-box: var(--sg-text-color, var(--theme-code-foreground, var(--jp-content-font-color1, white)));\n",
              "    --sklearn-color-icon: #878787;\n",
              "  }\n",
              "}\n",
              "\n",
              "#sk-container-id-1 {\n",
              "  color: var(--sklearn-color-text);\n",
              "}\n",
              "\n",
              "#sk-container-id-1 pre {\n",
              "  padding: 0;\n",
              "}\n",
              "\n",
              "#sk-container-id-1 input.sk-hidden--visually {\n",
              "  border: 0;\n",
              "  clip: rect(1px 1px 1px 1px);\n",
              "  clip: rect(1px, 1px, 1px, 1px);\n",
              "  height: 1px;\n",
              "  margin: -1px;\n",
              "  overflow: hidden;\n",
              "  padding: 0;\n",
              "  position: absolute;\n",
              "  width: 1px;\n",
              "}\n",
              "\n",
              "#sk-container-id-1 div.sk-dashed-wrapped {\n",
              "  border: 1px dashed var(--sklearn-color-line);\n",
              "  margin: 0 0.4em 0.5em 0.4em;\n",
              "  box-sizing: border-box;\n",
              "  padding-bottom: 0.4em;\n",
              "  background-color: var(--sklearn-color-background);\n",
              "}\n",
              "\n",
              "#sk-container-id-1 div.sk-container {\n",
              "  /* jupyter's `normalize.less` sets `[hidden] { display: none; }`\n",
              "     but bootstrap.min.css set `[hidden] { display: none !important; }`\n",
              "     so we also need the `!important` here to be able to override the\n",
              "     default hidden behavior on the sphinx rendered scikit-learn.org.\n",
              "     See: https://github.com/scikit-learn/scikit-learn/issues/21755 */\n",
              "  display: inline-block !important;\n",
              "  position: relative;\n",
              "}\n",
              "\n",
              "#sk-container-id-1 div.sk-text-repr-fallback {\n",
              "  display: none;\n",
              "}\n",
              "\n",
              "div.sk-parallel-item,\n",
              "div.sk-serial,\n",
              "div.sk-item {\n",
              "  /* draw centered vertical line to link estimators */\n",
              "  background-image: linear-gradient(var(--sklearn-color-text-on-default-background), var(--sklearn-color-text-on-default-background));\n",
              "  background-size: 2px 100%;\n",
              "  background-repeat: no-repeat;\n",
              "  background-position: center center;\n",
              "}\n",
              "\n",
              "/* Parallel-specific style estimator block */\n",
              "\n",
              "#sk-container-id-1 div.sk-parallel-item::after {\n",
              "  content: \"\";\n",
              "  width: 100%;\n",
              "  border-bottom: 2px solid var(--sklearn-color-text-on-default-background);\n",
              "  flex-grow: 1;\n",
              "}\n",
              "\n",
              "#sk-container-id-1 div.sk-parallel {\n",
              "  display: flex;\n",
              "  align-items: stretch;\n",
              "  justify-content: center;\n",
              "  background-color: var(--sklearn-color-background);\n",
              "  position: relative;\n",
              "}\n",
              "\n",
              "#sk-container-id-1 div.sk-parallel-item {\n",
              "  display: flex;\n",
              "  flex-direction: column;\n",
              "}\n",
              "\n",
              "#sk-container-id-1 div.sk-parallel-item:first-child::after {\n",
              "  align-self: flex-end;\n",
              "  width: 50%;\n",
              "}\n",
              "\n",
              "#sk-container-id-1 div.sk-parallel-item:last-child::after {\n",
              "  align-self: flex-start;\n",
              "  width: 50%;\n",
              "}\n",
              "\n",
              "#sk-container-id-1 div.sk-parallel-item:only-child::after {\n",
              "  width: 0;\n",
              "}\n",
              "\n",
              "/* Serial-specific style estimator block */\n",
              "\n",
              "#sk-container-id-1 div.sk-serial {\n",
              "  display: flex;\n",
              "  flex-direction: column;\n",
              "  align-items: center;\n",
              "  background-color: var(--sklearn-color-background);\n",
              "  padding-right: 1em;\n",
              "  padding-left: 1em;\n",
              "}\n",
              "\n",
              "\n",
              "/* Toggleable style: style used for estimator/Pipeline/ColumnTransformer box that is\n",
              "clickable and can be expanded/collapsed.\n",
              "- Pipeline and ColumnTransformer use this feature and define the default style\n",
              "- Estimators will overwrite some part of the style using the `sk-estimator` class\n",
              "*/\n",
              "\n",
              "/* Pipeline and ColumnTransformer style (default) */\n",
              "\n",
              "#sk-container-id-1 div.sk-toggleable {\n",
              "  /* Default theme specific background. It is overwritten whether we have a\n",
              "  specific estimator or a Pipeline/ColumnTransformer */\n",
              "  background-color: var(--sklearn-color-background);\n",
              "}\n",
              "\n",
              "/* Toggleable label */\n",
              "#sk-container-id-1 label.sk-toggleable__label {\n",
              "  cursor: pointer;\n",
              "  display: flex;\n",
              "  width: 100%;\n",
              "  margin-bottom: 0;\n",
              "  padding: 0.5em;\n",
              "  box-sizing: border-box;\n",
              "  text-align: center;\n",
              "  align-items: start;\n",
              "  justify-content: space-between;\n",
              "  gap: 0.5em;\n",
              "}\n",
              "\n",
              "#sk-container-id-1 label.sk-toggleable__label .caption {\n",
              "  font-size: 0.6rem;\n",
              "  font-weight: lighter;\n",
              "  color: var(--sklearn-color-text-muted);\n",
              "}\n",
              "\n",
              "#sk-container-id-1 label.sk-toggleable__label-arrow:before {\n",
              "  /* Arrow on the left of the label */\n",
              "  content: \"▸\";\n",
              "  float: left;\n",
              "  margin-right: 0.25em;\n",
              "  color: var(--sklearn-color-icon);\n",
              "}\n",
              "\n",
              "#sk-container-id-1 label.sk-toggleable__label-arrow:hover:before {\n",
              "  color: var(--sklearn-color-text);\n",
              "}\n",
              "\n",
              "/* Toggleable content - dropdown */\n",
              "\n",
              "#sk-container-id-1 div.sk-toggleable__content {\n",
              "  max-height: 0;\n",
              "  max-width: 0;\n",
              "  overflow: hidden;\n",
              "  text-align: left;\n",
              "  /* unfitted */\n",
              "  background-color: var(--sklearn-color-unfitted-level-0);\n",
              "}\n",
              "\n",
              "#sk-container-id-1 div.sk-toggleable__content.fitted {\n",
              "  /* fitted */\n",
              "  background-color: var(--sklearn-color-fitted-level-0);\n",
              "}\n",
              "\n",
              "#sk-container-id-1 div.sk-toggleable__content pre {\n",
              "  margin: 0.2em;\n",
              "  border-radius: 0.25em;\n",
              "  color: var(--sklearn-color-text);\n",
              "  /* unfitted */\n",
              "  background-color: var(--sklearn-color-unfitted-level-0);\n",
              "}\n",
              "\n",
              "#sk-container-id-1 div.sk-toggleable__content.fitted pre {\n",
              "  /* unfitted */\n",
              "  background-color: var(--sklearn-color-fitted-level-0);\n",
              "}\n",
              "\n",
              "#sk-container-id-1 input.sk-toggleable__control:checked~div.sk-toggleable__content {\n",
              "  /* Expand drop-down */\n",
              "  max-height: 200px;\n",
              "  max-width: 100%;\n",
              "  overflow: auto;\n",
              "}\n",
              "\n",
              "#sk-container-id-1 input.sk-toggleable__control:checked~label.sk-toggleable__label-arrow:before {\n",
              "  content: \"▾\";\n",
              "}\n",
              "\n",
              "/* Pipeline/ColumnTransformer-specific style */\n",
              "\n",
              "#sk-container-id-1 div.sk-label input.sk-toggleable__control:checked~label.sk-toggleable__label {\n",
              "  color: var(--sklearn-color-text);\n",
              "  background-color: var(--sklearn-color-unfitted-level-2);\n",
              "}\n",
              "\n",
              "#sk-container-id-1 div.sk-label.fitted input.sk-toggleable__control:checked~label.sk-toggleable__label {\n",
              "  background-color: var(--sklearn-color-fitted-level-2);\n",
              "}\n",
              "\n",
              "/* Estimator-specific style */\n",
              "\n",
              "/* Colorize estimator box */\n",
              "#sk-container-id-1 div.sk-estimator input.sk-toggleable__control:checked~label.sk-toggleable__label {\n",
              "  /* unfitted */\n",
              "  background-color: var(--sklearn-color-unfitted-level-2);\n",
              "}\n",
              "\n",
              "#sk-container-id-1 div.sk-estimator.fitted input.sk-toggleable__control:checked~label.sk-toggleable__label {\n",
              "  /* fitted */\n",
              "  background-color: var(--sklearn-color-fitted-level-2);\n",
              "}\n",
              "\n",
              "#sk-container-id-1 div.sk-label label.sk-toggleable__label,\n",
              "#sk-container-id-1 div.sk-label label {\n",
              "  /* The background is the default theme color */\n",
              "  color: var(--sklearn-color-text-on-default-background);\n",
              "}\n",
              "\n",
              "/* On hover, darken the color of the background */\n",
              "#sk-container-id-1 div.sk-label:hover label.sk-toggleable__label {\n",
              "  color: var(--sklearn-color-text);\n",
              "  background-color: var(--sklearn-color-unfitted-level-2);\n",
              "}\n",
              "\n",
              "/* Label box, darken color on hover, fitted */\n",
              "#sk-container-id-1 div.sk-label.fitted:hover label.sk-toggleable__label.fitted {\n",
              "  color: var(--sklearn-color-text);\n",
              "  background-color: var(--sklearn-color-fitted-level-2);\n",
              "}\n",
              "\n",
              "/* Estimator label */\n",
              "\n",
              "#sk-container-id-1 div.sk-label label {\n",
              "  font-family: monospace;\n",
              "  font-weight: bold;\n",
              "  display: inline-block;\n",
              "  line-height: 1.2em;\n",
              "}\n",
              "\n",
              "#sk-container-id-1 div.sk-label-container {\n",
              "  text-align: center;\n",
              "}\n",
              "\n",
              "/* Estimator-specific */\n",
              "#sk-container-id-1 div.sk-estimator {\n",
              "  font-family: monospace;\n",
              "  border: 1px dotted var(--sklearn-color-border-box);\n",
              "  border-radius: 0.25em;\n",
              "  box-sizing: border-box;\n",
              "  margin-bottom: 0.5em;\n",
              "  /* unfitted */\n",
              "  background-color: var(--sklearn-color-unfitted-level-0);\n",
              "}\n",
              "\n",
              "#sk-container-id-1 div.sk-estimator.fitted {\n",
              "  /* fitted */\n",
              "  background-color: var(--sklearn-color-fitted-level-0);\n",
              "}\n",
              "\n",
              "/* on hover */\n",
              "#sk-container-id-1 div.sk-estimator:hover {\n",
              "  /* unfitted */\n",
              "  background-color: var(--sklearn-color-unfitted-level-2);\n",
              "}\n",
              "\n",
              "#sk-container-id-1 div.sk-estimator.fitted:hover {\n",
              "  /* fitted */\n",
              "  background-color: var(--sklearn-color-fitted-level-2);\n",
              "}\n",
              "\n",
              "/* Specification for estimator info (e.g. \"i\" and \"?\") */\n",
              "\n",
              "/* Common style for \"i\" and \"?\" */\n",
              "\n",
              ".sk-estimator-doc-link,\n",
              "a:link.sk-estimator-doc-link,\n",
              "a:visited.sk-estimator-doc-link {\n",
              "  float: right;\n",
              "  font-size: smaller;\n",
              "  line-height: 1em;\n",
              "  font-family: monospace;\n",
              "  background-color: var(--sklearn-color-background);\n",
              "  border-radius: 1em;\n",
              "  height: 1em;\n",
              "  width: 1em;\n",
              "  text-decoration: none !important;\n",
              "  margin-left: 0.5em;\n",
              "  text-align: center;\n",
              "  /* unfitted */\n",
              "  border: var(--sklearn-color-unfitted-level-1) 1pt solid;\n",
              "  color: var(--sklearn-color-unfitted-level-1);\n",
              "}\n",
              "\n",
              ".sk-estimator-doc-link.fitted,\n",
              "a:link.sk-estimator-doc-link.fitted,\n",
              "a:visited.sk-estimator-doc-link.fitted {\n",
              "  /* fitted */\n",
              "  border: var(--sklearn-color-fitted-level-1) 1pt solid;\n",
              "  color: var(--sklearn-color-fitted-level-1);\n",
              "}\n",
              "\n",
              "/* On hover */\n",
              "div.sk-estimator:hover .sk-estimator-doc-link:hover,\n",
              ".sk-estimator-doc-link:hover,\n",
              "div.sk-label-container:hover .sk-estimator-doc-link:hover,\n",
              ".sk-estimator-doc-link:hover {\n",
              "  /* unfitted */\n",
              "  background-color: var(--sklearn-color-unfitted-level-3);\n",
              "  color: var(--sklearn-color-background);\n",
              "  text-decoration: none;\n",
              "}\n",
              "\n",
              "div.sk-estimator.fitted:hover .sk-estimator-doc-link.fitted:hover,\n",
              ".sk-estimator-doc-link.fitted:hover,\n",
              "div.sk-label-container:hover .sk-estimator-doc-link.fitted:hover,\n",
              ".sk-estimator-doc-link.fitted:hover {\n",
              "  /* fitted */\n",
              "  background-color: var(--sklearn-color-fitted-level-3);\n",
              "  color: var(--sklearn-color-background);\n",
              "  text-decoration: none;\n",
              "}\n",
              "\n",
              "/* Span, style for the box shown on hovering the info icon */\n",
              ".sk-estimator-doc-link span {\n",
              "  display: none;\n",
              "  z-index: 9999;\n",
              "  position: relative;\n",
              "  font-weight: normal;\n",
              "  right: .2ex;\n",
              "  padding: .5ex;\n",
              "  margin: .5ex;\n",
              "  width: min-content;\n",
              "  min-width: 20ex;\n",
              "  max-width: 50ex;\n",
              "  color: var(--sklearn-color-text);\n",
              "  box-shadow: 2pt 2pt 4pt #999;\n",
              "  /* unfitted */\n",
              "  background: var(--sklearn-color-unfitted-level-0);\n",
              "  border: .5pt solid var(--sklearn-color-unfitted-level-3);\n",
              "}\n",
              "\n",
              ".sk-estimator-doc-link.fitted span {\n",
              "  /* fitted */\n",
              "  background: var(--sklearn-color-fitted-level-0);\n",
              "  border: var(--sklearn-color-fitted-level-3);\n",
              "}\n",
              "\n",
              ".sk-estimator-doc-link:hover span {\n",
              "  display: block;\n",
              "}\n",
              "\n",
              "/* \"?\"-specific style due to the `<a>` HTML tag */\n",
              "\n",
              "#sk-container-id-1 a.estimator_doc_link {\n",
              "  float: right;\n",
              "  font-size: 1rem;\n",
              "  line-height: 1em;\n",
              "  font-family: monospace;\n",
              "  background-color: var(--sklearn-color-background);\n",
              "  border-radius: 1rem;\n",
              "  height: 1rem;\n",
              "  width: 1rem;\n",
              "  text-decoration: none;\n",
              "  /* unfitted */\n",
              "  color: var(--sklearn-color-unfitted-level-1);\n",
              "  border: var(--sklearn-color-unfitted-level-1) 1pt solid;\n",
              "}\n",
              "\n",
              "#sk-container-id-1 a.estimator_doc_link.fitted {\n",
              "  /* fitted */\n",
              "  border: var(--sklearn-color-fitted-level-1) 1pt solid;\n",
              "  color: var(--sklearn-color-fitted-level-1);\n",
              "}\n",
              "\n",
              "/* On hover */\n",
              "#sk-container-id-1 a.estimator_doc_link:hover {\n",
              "  /* unfitted */\n",
              "  background-color: var(--sklearn-color-unfitted-level-3);\n",
              "  color: var(--sklearn-color-background);\n",
              "  text-decoration: none;\n",
              "}\n",
              "\n",
              "#sk-container-id-1 a.estimator_doc_link.fitted:hover {\n",
              "  /* fitted */\n",
              "  background-color: var(--sklearn-color-fitted-level-3);\n",
              "}\n",
              "</style><div id=\"sk-container-id-1\" class=\"sk-top-container\"><div class=\"sk-text-repr-fallback\"><pre>LatentDirichletAllocation(n_components=12, n_jobs=-1, random_state=42)</pre><b>In a Jupyter environment, please rerun this cell to show the HTML representation or trust the notebook. <br />On GitHub, the HTML representation is unable to render, please try loading this page with nbviewer.org.</b></div><div class=\"sk-container\" hidden><div class=\"sk-item\"><div class=\"sk-estimator fitted sk-toggleable\"><input class=\"sk-toggleable__control sk-hidden--visually\" id=\"sk-estimator-id-1\" type=\"checkbox\" checked><label for=\"sk-estimator-id-1\" class=\"sk-toggleable__label fitted sk-toggleable__label-arrow\"><div><div>LatentDirichletAllocation</div></div><div><a class=\"sk-estimator-doc-link fitted\" rel=\"noreferrer\" target=\"_blank\" href=\"https://scikit-learn.org/1.6/modules/generated/sklearn.decomposition.LatentDirichletAllocation.html\">?<span>Documentation for LatentDirichletAllocation</span></a><span class=\"sk-estimator-doc-link fitted\">i<span>Fitted</span></span></div></label><div class=\"sk-toggleable__content fitted\"><pre>LatentDirichletAllocation(n_components=12, n_jobs=-1, random_state=42)</pre></div> </div></div></div></div>"
            ]
          },
          "metadata": {},
          "execution_count": 29
        }
      ],
      "source": [
        "%%time\n",
        "\n",
        "count_vectorizer = CountVectorizer(max_features=500, ngram_range=(1, 2), stop_words=stopwords, max_df=0.95, min_df=2)\n",
        "dataset = count_vectorizer.fit_transform(df['all_text'])\n",
        "\n",
        "lda = LDA(n_components = 12,\n",
        "          max_iter=10,\n",
        "          n_jobs=-1,\n",
        "          learning_method='batch',\n",
        "          random_state=42)\n",
        "lda.fit(dataset)"
      ]
    },
    {
      "cell_type": "markdown",
      "metadata": {
        "id": "GAFE8Ox_SUqm"
      },
      "source": [
        "Посмотрим на топ10 слов в каждой из тем, чтобы ее идентифицировать"
      ]
    },
    {
      "cell_type": "code",
      "source": [
        "def display_topics(model, feature_names, no_top_words):\n",
        "    for topic_idx, topic in enumerate(model.components_):\n",
        "        print(f\"Тема {topic_idx + 1}:\", \", \".join([feature_names[i] for i in topic.argsort()[:-no_top_words - 1:-1]]))\n",
        "\n",
        "tf_feature_names = count_vectorizer.get_feature_names_out()\n",
        "display_topics(lda, tf_feature_names, 10)"
      ],
      "metadata": {
        "id": "O-_KNEMfuskJ",
        "colab": {
          "base_uri": "https://localhost:8080/"
        },
        "outputId": "aba761ae-1e6f-4a9f-a3b6-1b3062fcf207"
      },
      "execution_count": 30,
      "outputs": [
        {
          "output_type": "stream",
          "name": "stdout",
          "text": [
            "Тема 1: сотрудник, обслуживание, вежливый, офис, отделение, помочь, персонал, благодарность, объяснить, отличный\n",
            "Тема 2: приложение, удобный, кэшбэк, мобильный, мобильный приложение, категория, дебетовый, удобный приложение, кэшбек, нравиться\n",
            "Тема 3: халва, рассрочка, покупка, кэшбэк, нравиться, обслуживание, удобно, партнёр, бесплатный, магазин\n",
            "Тема 4: поддержка, проблема, отвечать, отличный, решать, служба, служба поддержка, оперативно, решение, чат\n",
            "Тема 5: чат, оператор, помочь, приложение, поддержка, помощь, обратиться, ответ, сотрудник, разобраться\n",
            "Тема 6: выгодный, условие, услуга, обслуживание, предложение, отличный, рекомендовать, удобный, высокий, использование\n",
            "Тема 7: перевод, комиссия, средство, услуга, вернуть, денежный, оплата, рубль, денежный средство, сумма\n",
            "Тема 8: кредит, условие, сумма, ипотека, платёж, ставка, заявка, страховка, оформить, договор\n",
            "Тема 9: дебетовый, оформить, заказать, привезти, курьер, стикер, оформление, доставка, получение, сайт\n",
            "Тема 10: кредитный, период, кредитка, условие, покупка, лимит, наличный, льготный, льготный период, снятие\n",
            "Тема 11: вклад, процент, кешбек, счёт, условие, открыть, категория, кэшбек, бонус, дебетовый\n",
            "Тема 12: счёт, сотрудник, линия, личный, горячий, горячий линия, обращение, звонить, номер, телефон\n"
          ]
        }
      ]
    },
    {
      "cell_type": "markdown",
      "metadata": {
        "id": "DJpTSk6obnM1"
      },
      "source": [
        "Поробуем вручную идентифицировать категории\n",
        "\n",
        "- 1 обслуживание\n",
        "- 2 мобильное приложение\n",
        "- 3 кредитная карта ???\n",
        "- 4 дистанционное обслуживание\n",
        "- 5 дистанционное обслуживание\n",
        "- 6\n",
        "- 7 переводы (такой категории у нас нет)\n",
        "- 8 ипотека\n",
        "- 9 дебетовая карта\n",
        "- 10 кредитная карта\n",
        "- 11 вклад\n",
        "- 12 дистанционное обслуживание\n",
        "\n",
        "Уменьшим кол-во категорий - отсечем малочисленные, чтобы было проще оценить работу алгоритма"
      ]
    },
    {
      "cell_type": "code",
      "execution_count": 31,
      "metadata": {
        "id": "XIbdcvc10JDb",
        "colab": {
          "base_uri": "https://localhost:8080/",
          "height": 331
        },
        "outputId": "7f911f62-8936-4f72-d6cc-308f070f7b0e"
      },
      "outputs": [
        {
          "output_type": "execute_result",
          "data": {
            "text/plain": [
              "review_tag\n",
              "Дебетовые карты               38583\n",
              "Кредитные карты               15508\n",
              "Обслуживание                  11669\n",
              "Дистанционное обслуживание     8626\n",
              "Мобильное приложение           4711\n",
              "Кредиты наличными              4486\n",
              "Вклады                         4396\n",
              "Name: count, dtype: int64"
            ],
            "text/html": [
              "<div>\n",
              "<style scoped>\n",
              "    .dataframe tbody tr th:only-of-type {\n",
              "        vertical-align: middle;\n",
              "    }\n",
              "\n",
              "    .dataframe tbody tr th {\n",
              "        vertical-align: top;\n",
              "    }\n",
              "\n",
              "    .dataframe thead th {\n",
              "        text-align: right;\n",
              "    }\n",
              "</style>\n",
              "<table border=\"1\" class=\"dataframe\">\n",
              "  <thead>\n",
              "    <tr style=\"text-align: right;\">\n",
              "      <th></th>\n",
              "      <th>count</th>\n",
              "    </tr>\n",
              "    <tr>\n",
              "      <th>review_tag</th>\n",
              "      <th></th>\n",
              "    </tr>\n",
              "  </thead>\n",
              "  <tbody>\n",
              "    <tr>\n",
              "      <th>Дебетовые карты</th>\n",
              "      <td>38583</td>\n",
              "    </tr>\n",
              "    <tr>\n",
              "      <th>Кредитные карты</th>\n",
              "      <td>15508</td>\n",
              "    </tr>\n",
              "    <tr>\n",
              "      <th>Обслуживание</th>\n",
              "      <td>11669</td>\n",
              "    </tr>\n",
              "    <tr>\n",
              "      <th>Дистанционное обслуживание</th>\n",
              "      <td>8626</td>\n",
              "    </tr>\n",
              "    <tr>\n",
              "      <th>Мобильное приложение</th>\n",
              "      <td>4711</td>\n",
              "    </tr>\n",
              "    <tr>\n",
              "      <th>Кредиты наличными</th>\n",
              "      <td>4486</td>\n",
              "    </tr>\n",
              "    <tr>\n",
              "      <th>Вклады</th>\n",
              "      <td>4396</td>\n",
              "    </tr>\n",
              "  </tbody>\n",
              "</table>\n",
              "</div><br><label><b>dtype:</b> int64</label>"
            ]
          },
          "metadata": {},
          "execution_count": 31
        }
      ],
      "source": [
        "counts = df.review_tag.value_counts()\n",
        "df = df[df['review_tag'].isin(counts[counts >= 4000].index)]\n",
        "df.review_tag.value_counts()"
      ]
    },
    {
      "cell_type": "markdown",
      "source": [
        "И уберем тексты, в которых менее 10 слов, так как по такому количеству слов практически невозможно адекватно кластеризовать этот текст"
      ],
      "metadata": {
        "id": "CxUHezHhjQzg"
      }
    },
    {
      "cell_type": "code",
      "source": [
        "df = df[df.word_count >= 10]"
      ],
      "metadata": {
        "id": "43s1ykTGxzwk"
      },
      "execution_count": 32,
      "outputs": []
    },
    {
      "cell_type": "code",
      "execution_count": 33,
      "metadata": {
        "id": "rB5lW7iBdxCU",
        "colab": {
          "base_uri": "https://localhost:8080/"
        },
        "outputId": "88b7b61a-6e41-4954-e89c-8441d5b9cc27"
      },
      "outputs": [
        {
          "output_type": "execute_result",
          "data": {
            "text/plain": [
              "86507"
            ]
          },
          "metadata": {},
          "execution_count": 33
        }
      ],
      "source": [
        "df.shape[0]"
      ]
    },
    {
      "cell_type": "markdown",
      "source": [
        "От первоначального датасета осталось около 90,5% данных"
      ],
      "metadata": {
        "id": "tNpcoBXmjpqw"
      }
    },
    {
      "cell_type": "code",
      "execution_count": 34,
      "metadata": {
        "id": "PtfjnMY1dKC_",
        "colab": {
          "base_uri": "https://localhost:8080/"
        },
        "outputId": "aa20a992-b29a-4a01-82aa-edd4de925962"
      },
      "outputs": [
        {
          "output_type": "stream",
          "name": "stdout",
          "text": [
            "Тема 1: вклад, процент, счёт, условие, открыть, выгодный, ставка, накопительный, накопительный счёт, остаток\n",
            "Тема 2: кредитный, дебетовый, оформить, сотрудник, условие, заказать, оформление, привезти, курьер, рассказать\n",
            "Тема 3: счёт, услуга, средство, сотрудник, уровень, операция, высокий, обслуживание, перевод, обращение\n",
            "Тема 4: сотрудник, поддержка, обслуживание, проблема, чат, помочь, вежливый, оператор, офис, отвечать\n",
            "Тема 5: кредит, халва, кредитный, рассрочка, покупка, сумма, платёж, условие, брать, процент\n",
            "Тема 6: кэшбэк, дебетовый, кэшбек, кешбек, отличный, категория, обслуживание, нравиться, бонус, покупка\n",
            "Тема 7: приложение, удобный, мобильный, мобильный приложение, перевод, удобный приложение, удобно, понятный, использование, комиссия\n"
          ]
        }
      ],
      "source": [
        "count_vectorizer = CountVectorizer(max_features=500, ngram_range=(1, 2), stop_words=stopwords, max_df=0.95, min_df=2)\n",
        "dataset = count_vectorizer.fit_transform(df['all_text'])\n",
        "\n",
        "lda = LDA(n_components = 7,\n",
        "          max_iter=10,\n",
        "          n_jobs=-1,\n",
        "          learning_method='batch',\n",
        "          random_state=42)\n",
        "lda.fit(dataset)\n",
        "\n",
        "tf_feature_names = count_vectorizer.get_feature_names_out()\n",
        "display_topics(lda, tf_feature_names, 10)"
      ]
    },
    {
      "cell_type": "markdown",
      "metadata": {
        "id": "iDRxnt5Ffxws"
      },
      "source": [
        "Аналогично вручную идентифицируем категории\n",
        "\n",
        "- 1 вклады\n",
        "- 2 кредиты наличными\n",
        "- 3 обслуживание\n",
        "- 4 дистанционное обслуживание\n",
        "- 5 кредитная карта\n",
        "- 6 дебетовая карта\n",
        "- 7 мобильное приложение\n",
        "\n",
        "\n",
        "Идентификация не однозначная. Проверим количество обращений в каждой из категорий"
      ]
    },
    {
      "cell_type": "code",
      "execution_count": 35,
      "metadata": {
        "id": "M-RE6t0Yd0c0",
        "colab": {
          "base_uri": "https://localhost:8080/"
        },
        "outputId": "2edf0ebc-dd0b-4718-a250-a593597d8077"
      },
      "outputs": [
        {
          "output_type": "execute_result",
          "data": {
            "text/plain": [
              "array([[0.00953418, 0.00953961, 0.00958083, ..., 0.00953665, 0.00954834,\n",
              "        0.00955211],\n",
              "       [0.00409953, 0.47230105, 0.2937533 , ..., 0.00410404, 0.1564095 ,\n",
              "        0.00409611],\n",
              "       [0.0079413 , 0.63586204, 0.00795234, ..., 0.00794358, 0.00794539,\n",
              "        0.0079391 ],\n",
              "       ...,\n",
              "       [0.91398002, 0.01438927, 0.01429663, ..., 0.01439886, 0.01432836,\n",
              "        0.01430222],\n",
              "       [0.01191935, 0.01192433, 0.01196733, ..., 0.39073176, 0.01194095,\n",
              "        0.37249788],\n",
              "       [0.03575543, 0.03575819, 0.03581952, ..., 0.03583231, 0.78524107,\n",
              "        0.03579057]])"
            ]
          },
          "metadata": {},
          "execution_count": 35
        }
      ],
      "source": [
        "pred = lda.transform(dataset)"
      ]
    },
    {
      "cell_type": "markdown",
      "metadata": {
        "id": "X7-og_v9TO1s"
      },
      "source": [
        "Предскажем категории для каждого обращения по максимальной вероятности"
      ]
    },
    {
      "cell_type": "code",
      "execution_count": 37,
      "metadata": {
        "id": "QuXSQbHBiK1L"
      },
      "outputs": [],
      "source": [
        "df['predictions'] = np.argmax(pred, axis=1)"
      ]
    },
    {
      "cell_type": "markdown",
      "source": [
        "Сделаем замену в столбце с оригинальными метками"
      ],
      "metadata": {
        "id": "fruCoGnakP-2"
      }
    },
    {
      "cell_type": "code",
      "source": [
        "cat_dct = {'Вклады': 0,\n",
        "           'Кредиты наличными': 1,\n",
        "           'Обслуживание': 2,\n",
        "           'Дистанционное обслуживание': 3,\n",
        "           'Кредитные карты': 4,\n",
        "           'Дебетовые карты': 5,\n",
        "           'Мобильное приложение': 6}"
      ],
      "metadata": {
        "id": "OhbrTW92nqTf"
      },
      "execution_count": 36,
      "outputs": []
    },
    {
      "cell_type": "code",
      "source": [
        "df['review_tag_num'] = df.review_tag.replace(cat_dct)"
      ],
      "metadata": {
        "id": "84cf73E6p4-A"
      },
      "execution_count": 38,
      "outputs": []
    },
    {
      "cell_type": "markdown",
      "source": [
        "Оценим точность, при условии, что **изначальная пользовательская разметка верная**"
      ],
      "metadata": {
        "id": "9Ldd_h7Fkgrp"
      }
    },
    {
      "cell_type": "code",
      "source": [
        "review_tag_num = df['review_tag_num']\n",
        "predictions = df['predictions']\n",
        "\n",
        "y_true = review_tag_num.astype(int)\n",
        "y_pred = predictions.astype(int)\n",
        "\n",
        "accuracy_value = accuracy_score(y_true, y_pred)\n",
        "print(f\"Accuracy: {accuracy_value}\")"
      ],
      "metadata": {
        "id": "s3oAsAKTp8iY",
        "colab": {
          "base_uri": "https://localhost:8080/"
        },
        "outputId": "7ddb3b93-ca4f-4062-a6d0-0c0b6d5a1711"
      },
      "execution_count": 39,
      "outputs": [
        {
          "output_type": "stream",
          "name": "stdout",
          "text": [
            "Accuracy: 0.406313939912377\n"
          ]
        }
      ]
    },
    {
      "cell_type": "markdown",
      "source": [
        "Для полноты картины посмотрим, по какой вероятности модель назначает категорию"
      ],
      "metadata": {
        "id": "T17jY77ekpPv"
      }
    },
    {
      "cell_type": "code",
      "execution_count": 40,
      "metadata": {
        "id": "t4ziimS1VBGl",
        "colab": {
          "base_uri": "https://localhost:8080/",
          "height": 418
        },
        "outputId": "8233c18d-648f-4a3f-bd0d-1e4a514b9390"
      },
      "outputs": [
        {
          "output_type": "display_data",
          "data": {
            "text/plain": [
              "<Figure size 1000x600 with 1 Axes>"
            ],
            "image/png": "[encoded data removed]"
          },
          "metadata": {}
        }
      ],
      "source": [
        "max_values = pred.max(axis=1)\n",
        "\n",
        "plt.figure(figsize=(10, 6))\n",
        "plt.hist(max_values, bins=50, color='blue', edgecolor='black')\n",
        "plt.title('Максимальные значения, по которым алгоритм выбирает категорию')\n",
        "plt.xlabel('Вероятность')\n",
        "plt.ylabel('Частота');"
      ]
    },
    {
      "cell_type": "markdown",
      "source": [
        "И также посмотрим на матрицу ошибок"
      ],
      "metadata": {
        "id": "GGzFYk6IlK6i"
      }
    },
    {
      "cell_type": "code",
      "source": [
        "cm = confusion_matrix(y_true, y_pred)\n",
        "\n",
        "plt.figure(figsize=(10, 6))\n",
        "sns.heatmap(cm, annot=True, fmt='d', cmap='Blues')\n",
        "plt.title('Матрица ошибок')\n",
        "plt.xlabel('Предсказанный класс')\n",
        "plt.ylabel('Правильный класс');"
      ],
      "metadata": {
        "id": "jk-fy1OTd3tH",
        "colab": {
          "base_uri": "https://localhost:8080/",
          "height": 448
        },
        "outputId": "4d687788-5058-41c4-a4a9-786a0300bbf5"
      },
      "execution_count": 41,
      "outputs": [
        {
          "output_type": "display_data",
          "data": {
            "text/plain": [
              "<Figure size 1000x600 with 2 Axes>"
            ],
            "image/png": "[encoded data removed]"
          },
          "metadata": {}
        }
      ]
    }
  ],
  "metadata": {
    "colab": {
      "provenance": []
    },
    "kernelspec": {
      "display_name": "Python 3",
      "name": "python3"
    },
    "language_info": {
      "name": "python"
    }
  },
  "nbformat": 4,
  "nbformat_minor": 0
}